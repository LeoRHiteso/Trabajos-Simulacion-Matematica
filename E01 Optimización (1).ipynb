{
  "metadata": {
    "kernelspec": {
      "name": "python",
      "display_name": "Python (Pyodide)",
      "language": "python"
    },
    "language_info": {
      "codemirror_mode": {
        "name": "python",
        "version": 3
      },
      "file_extension": ".py",
      "mimetype": "text/x-python",
      "name": "python",
      "nbconvert_exporter": "python",
      "pygments_lexer": "ipython3",
      "version": "3.8"
    }
  },
  "nbformat_minor": 5,
  "nbformat": 4,
  "cells": [
    {
      "id": "39bfe203-65a1-46ae-9853-605365312af5",
      "cell_type": "markdown",
      "source": "## Leonardo Rodriguez Hernandez ##  \n## 04 - Marzo - 2024 ##",
      "metadata": {}
    },
    {
      "id": "1e2823cf",
      "cell_type": "markdown",
      "source": "# Examen A Módulo 1 - Optimización.\n\n**Lea cuidadosamente las siguientes indicaciones antes de comenzar el examen:**\n- Para resolver el examen edite este mismo archivo y renómbrelo de la siguiente manera: *Examen1_ApellidoNombre*, donde *ApellidoNombre* corresponde a su apellido paterno con la inicial en mayúscula, seguido de su primer nombre con la inicial en mayúscula **sin acentos**. Por ejemplo, en mi caso el nombre del archivo sería *Examen1_MoralesGabriel*.\n- Resuelva los puntos en el espacio provisto. Si requiere agregar más celdas para código o escritura, hágalo (`Esc`,`B`) o (`Esc`,`A`).\n- Recuerde que también se está evaluando su capacidad de interpretar los resultados. Escriba sus interpretaciones/conclusiones en celdas utilizando *Markdown*.\n- El formato de presentación de todo el examen en general debe ser adecuado. Use tamaños de letra, colores, etiquetas, etcétera.\n- No se resuelven dudas de ningún tipo por los profesores de la asignatura. Por favor, absténgase de preguntar.\n- Revise bien el tipo de examen. Sólo se le calificará si realiza el tipo de examen asignado.",
      "metadata": {}
    },
    {
      "id": "53712a36",
      "cell_type": "markdown",
      "source": "---\n# Primer punto. Optimización de funciones con `SymPy` (37 puntos)\n\n**Costo mínimo**. Imagine dos contenedores cilíndricos sin tapa que deben satisfacer las siguientes condiciones:\n\n- El primer contenedor tiene el doble de altura que el segundo.\n- La altura del primer contenedor (el de mayor tamaño) es el doble de su radio.\n- El material para la base cuesta 10.00 MXN por cada $m^2$.\n- El material para los lados cuesta 6.00 MXN por cada $m^2$.\n\n¿Cuál es el costo del contenedor más barato?\n",
      "metadata": {}
    },
    {
      "id": "9913d3d8",
      "cell_type": "markdown",
      "source": "1. Escriba el volumen $V_1(r_1)$ y $V_2(r_2, r_1)$ de ambos contenedores como dos funciones distintas, donde $r_1$ es el radio del primer contenedor y $r_2$ es el radio del segundo. Realice este punto usando $\\LaTeX$ y celdas *Markdown*.",
      "metadata": {}
    },
    {
      "id": "a387e2cb",
      "cell_type": "markdown",
      "source": "\nSi el volumen de un cilindro es:  \n$ V=πr^2h$  \n### Volumen del primer contenedor $V_1(r_1)$:\n\n$ V_1(r_1) = \\pi r_1^2 h_1 $\n\nSustituyendo $h_1 = 2r_1$, obtenemos:\n\n$ V_1(r_1) = \\pi r_1^2 (2r_1) $\n\n### Volumen del segundo contenedor $V_2(r_2, r_1)$:\n\n\n $V_2(r_2, r_1) = \\pi r_2^2 (2r_1)$\n",
      "metadata": {}
    },
    {
      "id": "ee04a16b",
      "cell_type": "markdown",
      "source": "2. Escriba el costo **C** de fabricar ambos contenedores como una función de los radios de las bases. Realice este punto usando $\\LaTeX$ y celdas *Markdown*.",
      "metadata": {}
    },
    {
      "id": "fed271d9",
      "cell_type": "markdown",
      "source": "$C(r_1,r_2) = 10πr_1^2 + 12πr_1(2r_1) + 10πr_2^2 + 12πr_2(2r_2)$  ",
      "metadata": {}
    },
    {
      "id": "a1e58696",
      "cell_type": "markdown",
      "source": "3. Determina las dimensiones de los contenedores si el volumen del contenedor pequeño debe ser de $12m^3$ y el costo debe ser mínimo.",
      "metadata": {}
    },
    {
      "id": "f4a7593c",
      "cell_type": "code",
      "source": "import sympy as sp\nimport nu\nr1 = sp.var(\"r1\")\nr2 = sp.var(\"r2\")\nh1 = 2 * r1\nh2 = 0.5 * h1\nV1 = sp.pi * r1**2 * h1\nV2 = sp.pi * r2**2 * h2\npi = np.pi\nC = 10 * (sp.pi * r1**2 + sp.pi * r2**2) + 12 * (sp.pi * r1 * h1 + sp.pi * r2 * h2)\n\nrestriccion = Eq(V2, 12)\n\nr2enr1 = solve(restriccion, r2)[1]\n\nC_r1 = C.subs(r2, r2enr1)\n\ndC_r1 = diff(C_r1, r1)\n\nr1_critico = solve(dC_r1, r1)[0]\n\nr2_critico = r2enr1.subs(r1, r1_critico)\n\nprint(\"Radio del primer contenedor: \",r1_critico)\nprint(\"Radio del segundo contenedor: \",r2_critico)",
      "metadata": {
        "trusted": true
      },
      "outputs": [
        {
          "name": "stdout",
          "text": "Radio del primer contenedor:  0.764313731117990\nRadio del segundo contenedor:  2.23552667172687\n",
          "output_type": "stream"
        }
      ],
      "execution_count": 46
    },
    {
      "id": "fec1be1e",
      "cell_type": "markdown",
      "source": "3. ¿Cuál fue el costo de fabricar este par de contenedores?",
      "metadata": {}
    },
    {
      "id": "3da98dd3",
      "cell_type": "code",
      "source": "Costo = C.subs({r1: r1_critico, r2: r2_critico})\nprint(\"El costo minimo es de: \", Costo)\n",
      "metadata": {
        "trusted": true
      },
      "outputs": [
        {
          "name": "stdout",
          "text": "El costo minimo es de:  90.3414860833656*pi\n",
          "output_type": "stream"
        }
      ],
      "execution_count": 47
    },
    {
      "id": "8cd979f9",
      "cell_type": "code",
      "source": "",
      "metadata": {},
      "outputs": [],
      "execution_count": null
    },
    {
      "id": "06662bea",
      "cell_type": "code",
      "source": "",
      "metadata": {},
      "outputs": [],
      "execution_count": null
    },
    {
      "id": "4eeff9c8",
      "cell_type": "markdown",
      "source": "---\n# Segundo punto. Programación lineal (37 puntos)",
      "metadata": {}
    },
    {
      "id": "8013ca31",
      "cell_type": "markdown",
      "source": "Una empresa se dedica a fabricar tarjetas de control para automóviles, y están en su momento de planeación de compras anuales. Hay 5 proveedores que pueden proveer los componentes, cada uno a su propio precio.",
      "metadata": {}
    },
    {
      "id": "f41253d2",
      "cell_type": "markdown",
      "source": "<table>\n  <tr>\n      <th>  </th>\n      <th>Proveedor 1</th>\n      <th>Proveedor 2</th>\n      <th>Proveedor 3</th>\n      <th>Demanda</th>\n  </tr>\n  <tr>\n      <th>Componente 1</th>\n      <td>0.5</td>\n      <td>0.6</td>\n      <td>0.7</td>\n      <td>15000</td>\n  </tr>\n  <tr style=\"border-bottom: 1px solid #000;\">\n      <th>Componente 2</th>\n      <td>0.7</td>\n      <td>0.5</td>\n      <td>0.6</td>\n      <td>20000</td>\n  </tr>\n  <tr style=\"border-bottom: 1px solid #000;\">\n      <th>Componente 3</th>\n      <td>0.32</td>\n      <td>0.54</td>\n      <td>0.8</td>\n      <td>12000</td>\n  </tr>\n\n  <tr style=\"border-bottom: 1px solid #000;\">\n      <th>Capacidad</th>\n      <td> 21000 </td>\n      <td> 16000 </td>\n      <td> 16000 </td>\n      <td>  </td>\n  </tr>\n</table>",
      "metadata": {}
    },
    {
      "id": "48d6c967",
      "cell_type": "markdown",
      "source": "El proveedor tiene restricciones de capacidad de fabricación del tipo de componentes, por lo que un proveedor no puede satisfacer nuestra demanda completa para cada componente.",
      "metadata": {}
    },
    {
      "id": "85e307ae",
      "cell_type": "markdown",
      "source": "Se desea conocer la cantidad que se debe comprar de cada componente a cada proveedor para gastar la menor cantidad de dinero posible, pero al mismo tiempo lograr satisfacer la demanda para poder continuar con la manufactura del producto.",
      "metadata": {}
    },
    {
      "id": "df55a736",
      "cell_type": "markdown",
      "source": "1. Escriba la función a **minimizar** junto con las restricciones, explicando detalladamente cada paso (usando fórmulas en $\\LaTeX$, en celdas Markdown). Además escriba el problema en la forma \\begin{equation}\n\\begin{array}{ll}\n\\min_{\\boldsymbol{x}} & \\boldsymbol{c}^T\\boldsymbol{x} \\\\\n\\text{s. a. }        & \\boldsymbol{A}_{eq}\\boldsymbol{x}=\\boldsymbol{b}_{eq} \\\\\n                     & \\boldsymbol{A}\\boldsymbol{x}\\leq\\boldsymbol{b},\n\\end{array}\\qquad\\text{(23 puntos)}\n\\end{equation}",
      "metadata": {}
    },
    {
      "id": "04ce36d6",
      "cell_type": "markdown",
      "source": "**Criterio de optimizacion**  \nMinimizar el gasto.\n\n**Variables**  \n$P_1 = Componente 1 de Proovedor 1$  \n$P_2 = Componente 1 de Proovedor 2$  \n$P_3 = Componente 1 de Proovedor 3$  \n\n$P_4 = Componente 2 de Proovedor 1$  \n$P_5 = Componente 2 de Proovedor 2$  \n$P_6 = Componente 2 de Proovedor 3$   \n\n$P_7 = Componente 3 de Proovedor 1$  \n$P_8 = Componente 3 de Proovedor 2$  \n$P_9 = Componente 3 de Proovedor 3$   \n\n**Restricciones de demanda**    \n$P_1 + P_2 + P_3 = 15000 $  \n$P_4 + P_5 + P_6 = 20000 $  \n$P_7 + P_8 + P_9 = 12000 $  \n\n**Restricciones de capacidad**  \n$P_1 + P_4 + P_7 \\leq 21000 $  \n$P_2 + P_5 + P_8 \\leq 16000 $  \n$P_3 + P_6 + P_9 \\leq 16000 $  \n\n**Funcion objetivo**  \n$0.5P_1 + 0.6P_2 + 0.7P_3 + 0.7P_4 + 0.5P_5 + 0.6P_6 + 0.32P_7 + 0.54P_8 + 0.8P_9$",
      "metadata": {}
    },
    {
      "id": "4b3a6d95-f987-4bfa-a02e-87b26527e536",
      "cell_type": "code",
      "source": "import numpy as np\nc= np.array([0.5,0.6,0.7,0.7,0.5,0.6,0.32,0.54,0.8])\nAub = np.array([\n               [-1,-1,-1,0,0,0,0,0,0],\n               [0,0,0,-1,-1,-1,0,0,0],\n               [0,0,0,0,0,0,-1,-1,-1],\n])\nbub = np.array([[-15000,-20000,-12000]\n])\n\nAeq = np.array ([\n    [1,0,0,1,0,0,1,0,0],\n    [0,1,0,0,1,0,0,1,0],\n    [0,0,1,0,0,1,0,0,1]\n])\nBeq = np.array ([\n    [21000,16000,16000]\n])\nimport scipy.optimize as opt\nopt.linprog(c, Aub, bub,Aeq,Beq)",
      "metadata": {
        "trusted": true
      },
      "outputs": [
        {
          "execution_count": 3,
          "output_type": "execute_result",
          "data": {
            "text/plain": "        message: Optimization terminated successfully. (HiGHS Status 7: Optimal)\n        success: True\n         status: 0\n            fun: 26060.0\n              x: [ 3.000e+03  0.000e+00  1.200e+04  0.000e+00  1.600e+04\n                   4.000e+03  1.800e+04  0.000e+00  0.000e+00]\n            nit: 6\n          lower:  residual: [ 3.000e+03  0.000e+00  1.200e+04  0.000e+00\n                              1.600e+04  4.000e+03  1.800e+04  0.000e+00\n                              0.000e+00]\n                 marginals: [ 0.000e+00  0.000e+00  0.000e+00  3.000e-01\n                              0.000e+00  0.000e+00  0.000e+00  1.200e-01\n                              2.800e-01]\n          upper:  residual: [       inf        inf        inf        inf\n                                    inf        inf        inf        inf\n                                    inf]\n                 marginals: [ 0.000e+00  0.000e+00  0.000e+00  0.000e+00\n                              0.000e+00  0.000e+00  0.000e+00  0.000e+00\n                              0.000e+00]\n          eqlin:  residual: [ 0.000e+00  0.000e+00  0.000e+00]\n                 marginals: [ 3.200e-01  4.200e-01  5.200e-01]\n        ineqlin:  residual: [ 0.000e+00  0.000e+00  6.000e+03]\n                 marginals: [-1.800e-01 -8.000e-02 -0.000e+00]\n mip_node_count: 0\n mip_dual_bound: 0.0\n        mip_gap: 0.0"
          },
          "metadata": {}
        }
      ],
      "execution_count": 3
    },
    {
      "id": "6c1e3c9a",
      "cell_type": "markdown",
      "source": "2. Resuelva el problema utilizando la función `linprog`. ¿Cómo debe ser la distribución de compras? ¿Cuánto dinero se necesita para satisfacer la demanda? (10 puntos)",
      "metadata": {}
    },
    {
      "id": "ac13d1e9-2c7c-4639-afe4-9da282395501",
      "cell_type": "markdown",
      "source": "**Los resultados dicen que:**    \n    - Del componente 1 se necesitan de 3 mil del primer proveedor y 12 mil del 3er proveedor.  \n    - Del componente 2 se necesitan de 16 mil del 2do proveedor y 4 mil del 3er proveedor.  \n    - Del componente 3 se necesitan de 18 mil del 1er proveedor.  ",
      "metadata": {}
    },
    {
      "id": "a0fc693d-26a3-4118-85f7-c01c05d9a536",
      "cell_type": "markdown",
      "source": "El costo total es de: **26060** u.m.  ",
      "metadata": {}
    },
    {
      "id": "e457259e",
      "cell_type": "code",
      "source": "",
      "metadata": {},
      "outputs": [],
      "execution_count": null
    },
    {
      "id": "5663a48b",
      "cell_type": "markdown",
      "source": "# Tercer punto. Ajuste de curvas (36 puntos)\n\nUtiliza el archivo adjunto en Canvas en el apartado que corresponde al examen.",
      "metadata": {}
    },
    {
      "id": "c673e9e6",
      "cell_type": "markdown",
      "source": "Escribe tu número de expediente: ",
      "metadata": {}
    },
    {
      "id": "da3c6c2e",
      "cell_type": "markdown",
      "source": "Lee el archivo y extrae la siguiente información:\n- $x$ es la primer columna del archivo\n- $y$ es la columna correspondiente a los últimos dos dígitos de tu número de expediente + 1. E.g. mi expediente es $693871$; por lo tanto, debo usar la columna $72$.",
      "metadata": {}
    },
    {
      "id": "46fbbaf5",
      "cell_type": "code",
      "source": "",
      "metadata": {},
      "outputs": [],
      "execution_count": null
    },
    {
      "id": "feb405d3",
      "cell_type": "code",
      "source": "",
      "metadata": {},
      "outputs": [],
      "execution_count": null
    },
    {
      "id": "fa67533a",
      "cell_type": "code",
      "source": "",
      "metadata": {},
      "outputs": [],
      "execution_count": null
    },
    {
      "id": "8714fbd7",
      "cell_type": "markdown",
      "source": "1. Ajuste los datos con polinomios de grados 1, 3, y 5. Muestre los errores de forma gráfica. ¿Qué polinomio se ajusta mejor?",
      "metadata": {}
    },
    {
      "id": "027ba631",
      "cell_type": "code",
      "source": "",
      "metadata": {},
      "outputs": [],
      "execution_count": null
    },
    {
      "id": "867c7c09",
      "cell_type": "code",
      "source": "",
      "metadata": {},
      "outputs": [],
      "execution_count": null
    },
    {
      "id": "02c63d5b",
      "cell_type": "code",
      "source": "",
      "metadata": {},
      "outputs": [],
      "execution_count": null
    },
    {
      "id": "59862478",
      "cell_type": "markdown",
      "source": "2. Muestre en un gráfico los datos y el polinomio que mejor se ajuste.",
      "metadata": {}
    },
    {
      "id": "27387213",
      "cell_type": "code",
      "source": "",
      "metadata": {},
      "outputs": [],
      "execution_count": null
    },
    {
      "id": "f4097aa4",
      "cell_type": "code",
      "source": "",
      "metadata": {},
      "outputs": [],
      "execution_count": null
    },
    {
      "id": "a8cfef44",
      "cell_type": "code",
      "source": "",
      "metadata": {},
      "outputs": [],
      "execution_count": null
    },
    {
      "id": "238f342a",
      "cell_type": "markdown",
      "source": "3. Use el modelo para averiguar el valor de $y$ cuando:\n- $x=0.001$\n- $x=-0.1$\n- $x=2.1$",
      "metadata": {}
    },
    {
      "id": "82706e4e",
      "cell_type": "code",
      "source": "",
      "metadata": {},
      "outputs": [],
      "execution_count": null
    },
    {
      "id": "b5d4cfe7",
      "cell_type": "code",
      "source": "",
      "metadata": {},
      "outputs": [],
      "execution_count": null
    },
    {
      "id": "51beb7c1",
      "cell_type": "code",
      "source": "",
      "metadata": {},
      "outputs": [],
      "execution_count": null
    },
    {
      "id": "4af77457",
      "cell_type": "markdown",
      "source": "4. ¿Qué diferencias encuentra en cuanto a la interpolación y la extrapolación?",
      "metadata": {}
    },
    {
      "id": "2e5066df",
      "cell_type": "markdown",
      "source": "",
      "metadata": {}
    },
    {
      "id": "7f451519",
      "cell_type": "markdown",
      "source": "",
      "metadata": {}
    },
    {
      "id": "fc693d0d",
      "cell_type": "markdown",
      "source": "",
      "metadata": {}
    },
    {
      "id": "3ff8002f",
      "cell_type": "markdown",
      "source": "5. Agregue un factor $\\cos{(10x)}$ a su modelo y grafique los resultados. ¿Mejoró el resultado?",
      "metadata": {}
    },
    {
      "id": "28b1f9ef",
      "cell_type": "code",
      "source": "",
      "metadata": {},
      "outputs": [],
      "execution_count": null
    },
    {
      "id": "011525b0",
      "cell_type": "code",
      "source": "",
      "metadata": {},
      "outputs": [],
      "execution_count": null
    },
    {
      "id": "b6cc448d",
      "cell_type": "code",
      "source": "",
      "metadata": {},
      "outputs": [],
      "execution_count": null
    }
  ]
}