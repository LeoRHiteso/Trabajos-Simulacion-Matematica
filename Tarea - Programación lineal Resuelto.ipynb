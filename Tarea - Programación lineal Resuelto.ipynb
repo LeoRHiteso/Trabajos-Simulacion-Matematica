{
  "metadata": {
    "kernelspec": {
      "name": "python",
      "display_name": "Python (Pyodide)",
      "language": "python"
    },
    "language_info": {
      "codemirror_mode": {
        "name": "python",
        "version": 3
      },
      "file_extension": ".py",
      "mimetype": "text/x-python",
      "name": "python",
      "nbconvert_exporter": "python",
      "pygments_lexer": "ipython3",
      "version": "3.8"
    }
  },
  "nbformat_minor": 4,
  "nbformat": 4,
  "cells": [
    {
      "cell_type": "markdown",
      "source": "# Tarea - Programación lineal\n## Leonardo Rodriguez Hernandez 18-02-2024",
      "metadata": {}
    },
    {
      "cell_type": "markdown",
      "source": "### Diseño de la Dieta Óptima\n\nSe quiere producir comida para gatos de la manera más barata, no obstante se debe también asegurar que se cumplan los datos requeridos de analisis nutricional. Por lo que se quiere variar la cantidad de cada ingrediente para cumplir con los estandares nutricionales. Los requisitos que se tienen es que en $100$ gramos, se deben tener **por lo menos** $8$ gramos de proteína y $6$ gramos de grasa. Así mismo, no se debe tener más de $2$ gramos de fibra y $0.4$ gramos de sal.  \n\nLos datos nutricionales se pueden obtener de la siguiente tabla:\n\nIngrediente|Proteína|Grasa|Fibra|Sal\n:----|----|----|----|----\nPollo|  10.0%|08.0%|00.1%|00.2%\nCarne|  20.0%|10.0%|00.5%|00.5%\nCordero|15.0%|11.0%|00.5%|00.7%\nArroz|  00.0%|01.0%|10.0%|00.2%\nTrigo|  04.0%|01.0%|15.0%|00.8%\nGel|    00.0%|00.0%|00.0%|00.0%\n\nLos costos de cada producto son:\n\nIngrediente|Costo por gramo\n:----|----\nPollo|$\\$$0.013\nCarne|$\\$$0.008\nCordero|$\\$$0.010\nArroz|$\\$$0.002\nTrigo|$\\$$0.005\nGel|$\\$$0.001    \n\nLo que se busca optimizar en este caso es la cantidad de productos que se debe utilizar en la comida de gato, minimizando el costo total. Para simplificar la notación use las siguientes variables: \n\n+ $x_1:$ Gramos de pollo  \n+ $x_2:$ Gramos de carne  \n+ $x_3:$ Gramos de cordero  \n+ $x_4:$ Gramos de arroz  \n+ $x_5:$ Gramos de trigo  \n+ $x_6:$ Gramos de gel\n\nLa tarea consiste en plantear el problemade programación lineal que permita satisfacer las necesidades alimenticias del gato al tiempo que minimice el costo total y resolverlo con `linprog`.",
      "metadata": {}
    },
    {
      "cell_type": "markdown",
      "source": "**Criterio de optimizacion**  \nLa comida de gato mas barata  \n\n**Restricciones**  \n$0.10x_1 + 0.20x_2 + 0.15x_3 + 0.04x_5 \\geq 8$  \n$0.08x_1 + 0.10x_2 + 0.11x_3 + 0.01x_4 + 0.01x_5 \\geq 6$  \n$0.001x_1 + 0.005x_2 + 0.005x_3 + 0.10x_4 + 0.15x_5 \\leq 2$  \n$0.002x_1 + 0.005x_2 + 0.007x_3 + 0.002x_4 + 0.008x_5 \\leq 0.4$\n\n**Funcion**  \n$0.013x_1 + 0.008x_2 + 0.01x_3 + 0.002x_4 + 0.005x_5 + 0.001x_6$\n\n",
      "metadata": {}
    },
    {
      "cell_type": "code",
      "source": "import numpy as np\nc= np.array([0.013,\n             0.008,\n            0.01,\n            0.002,\n            0.005,\n            0.001])\nAub = np.array([\n    [-0.10, -0.20, -0.15, 0 , -0.04, 0],\n    [-0.08, -0.10, -0.11, -0.01, -0.01, 0],\n    [0.001, 0.005, 0.005, 0.10, 0.15, 0],\n    [0.002, 0.005, 0.007, 0.002, 0.008, 0],\n    [-1,-1,-1,-1,-1,-1]\n])\nbub = np.array([-8,\n                -6,\n                2,\n                0.4,\n                -100])\nimport scipy.optimize as opt\nopt.linprog(c, Aub, bub)",
      "metadata": {
        "trusted": true
      },
      "outputs": [
        {
          "execution_count": 7,
          "output_type": "execute_result",
          "data": {
            "text/plain": "        message: Optimization terminated successfully. (HiGHS Status 7: Optimal)\n        success: True\n         status: 0\n            fun: 0.52\n              x: [ 0.000e+00  6.000e+01  0.000e+00  0.000e+00  0.000e+00\n                   4.000e+01]\n            nit: 2\n          lower:  residual: [ 0.000e+00  6.000e+01  0.000e+00  0.000e+00\n                              0.000e+00  4.000e+01]\n                 marginals: [ 6.400e-03  0.000e+00  1.300e-03  3.000e-04\n                              3.300e-03  0.000e+00]\n          upper:  residual: [       inf        inf        inf        inf\n                                    inf        inf]\n                 marginals: [ 0.000e+00  0.000e+00  0.000e+00  0.000e+00\n                              0.000e+00  0.000e+00]\n          eqlin:  residual: []\n                 marginals: []\n        ineqlin:  residual: [ 4.000e+00  0.000e+00  1.700e+00  1.000e-01\n                              0.000e+00]\n                 marginals: [-0.000e+00 -7.000e-02 -0.000e+00 -0.000e+00\n                             -1.000e-03]\n mip_node_count: 0\n mip_dual_bound: 0.0\n        mip_gap: 0.0"
          },
          "metadata": {}
        }
      ],
      "execution_count": 7
    },
    {
      "cell_type": "markdown",
      "source": "**Respuesta**  \nLo mas barato es de 0.52 u.m por cada 100 gramos, cumpliendo con los requisitos.  \nLa dieta consiste de 60 gramos de carne y 40 gramos de gel.",
      "metadata": {}
    },
    {
      "cell_type": "code",
      "source": "",
      "metadata": {},
      "outputs": [],
      "execution_count": null
    },
    {
      "cell_type": "markdown",
      "source": "### Problema de distribución de energía eléctrica\n\nLa Comisión Federal de Electricidad **(CFE)** dispone de cuatro plantas de generación para satisfacer la demanda diaria eléctrica en cuatro ciudades, Guadalajara, León y Morelia. Las plantas $1$, $2$ y $3$ pueden satisfacer $80$, $40$ y $60$ millones de KW al día respectivamente. Las necesidades de las ciudades de Guadalajara, León y Morelia son de $70$, $40$ y $70$ millones de Kw al día respectivamente. \n\n\nLos costos asociados al envío de suministro energético por cada millón de Kw entre cada planta y cada ciudad son los registrados en la siguiente tabla. \n\n-|Guadalajara|León|Morelia\n:----|----|----|----\nPlanta 1|5|2|7\nPlanta 2|3|6|6\nPlanta 3|6|1|2\n\nY por último, las restricciones del problema, van a estar dadas por las capacidades de oferta y demanda de cada planta (en millones de KW) y cada ciudad.\n\nPara simplificar la notación use las siguientes variables:\n\n+ $x_1$: Kw (en millones) distribuidos de la Planta 1 a Guadalajara\n+ $x_2$: Kw (en millones) distribuidos de la Planta 1 a León\n+ $x_3$: Kw (en millones) distribuidos de la Planta 1 a Morelia\n+ $x_4$: Kw (en millones) distribuidos de la Planta 2 a Guadalajara\n+ $x_5$: Kw (en millones) distribuidos de la Planta 2 a León\n+ $x_6$: Kw (en millones) distribuidos de la Planta 2 a Morelia\n+ $x_7$: Kw (en millones) distribuidos de la Planta 3 a Guadalajara\n+ $x_8$: Kw (en millones) distribuidos de la Planta 3 a León\n+ $x_9$: Kw (en millones) distribuidos de la Planta 3 a Morelia\n\nLa tarea consiste en plantear el problema de programación lineal que permita satisfacer las necesidades de todas las ciudades al tiempo que minimice los costos asociados a la distribución y resolverlo con `linprog`.",
      "metadata": {}
    },
    {
      "cell_type": "markdown",
      "source": "**Criterio de optimizacion**  \nMinimizar los costos de distribucion\n\n**Restricciones de oferta**  \n$x_1 + x_2 + x_3 \\leq 80$  \n$x_4 + x_5 + x_6 \\leq 40$  \n$x_7 + x_8 + x_9 \\leq 60$  \n**Restricciones de demanda**  \n$x_1 + x_4 + x_7 = 70$  \n$x_2 + x_5 + x_8 = 40$  \n$x_3 + x_6 + x_9 = 70$  \n\n**Funcion de distribucion**  \n$5x_1 + 2x_2 + 7x_3 + 3x_4 + 6x_5 + 6x_6 + 6x_7 + x_8 + 2x_9 $",
      "metadata": {}
    },
    {
      "cell_type": "code",
      "source": "import numpy as np\nc= np.array([5,2,7,3,6,6,6,1,2])\n\nAub = np.array([\n    [1,1,1,0,0,0,0,0,0], [0,0,0,1,1,1,0,0,0],[0,0,0,0,0,0,1,1,1]\n])\nbub = np.array([\n                [80,\n                40,\n                60]\n])\nAeq = ([\n    [1,0,0,1,0,0,1,0,0],\n       [0,1,0,0,1,0,0,1,0],\n       [0,0,1,0,0,1,0,0,1]\n])\nBeq = ([\n    [70],\n    [40], \n    [70]\n])\nimport scipy.optimize as opt\nopt.linprog(c,Aub,bub,Aeq,Beq)",
      "metadata": {
        "trusted": true
      },
      "outputs": [
        {
          "execution_count": 8,
          "output_type": "execute_result",
          "data": {
            "text/plain": "        message: Optimization terminated successfully. (HiGHS Status 7: Optimal)\n        success: True\n         status: 0\n            fun: 540.0\n              x: [ 3.000e+01  4.000e+01  1.000e+01  4.000e+01  0.000e+00\n                   0.000e+00  0.000e+00  0.000e+00  6.000e+01]\n            nit: 6\n          lower:  residual: [ 3.000e+01  4.000e+01  1.000e+01  4.000e+01\n                              0.000e+00  0.000e+00  0.000e+00  0.000e+00\n                              6.000e+01]\n                 marginals: [ 0.000e+00  0.000e+00  0.000e+00  0.000e+00\n                              6.000e+00  1.000e+00  6.000e+00  4.000e+00\n                              0.000e+00]\n          upper:  residual: [       inf        inf        inf        inf\n                                    inf        inf        inf        inf\n                                    inf]\n                 marginals: [ 0.000e+00  0.000e+00  0.000e+00  0.000e+00\n                              0.000e+00  0.000e+00  0.000e+00  0.000e+00\n                              0.000e+00]\n          eqlin:  residual: [ 0.000e+00  0.000e+00  0.000e+00]\n                 marginals: [ 5.000e+00  2.000e+00  7.000e+00]\n        ineqlin:  residual: [ 0.000e+00  0.000e+00  0.000e+00]\n                 marginals: [-0.000e+00 -2.000e+00 -5.000e+00]\n mip_node_count: 0\n mip_dual_bound: 0.0\n        mip_gap: 0.0"
          },
          "metadata": {}
        }
      ],
      "execution_count": 8
    },
    {
      "cell_type": "markdown",
      "source": "**Analisis de resultado**  \nLa planta 1 suministra 30 millones de KW a Guadalajara, 40 millones a Leon y 10 millones a morelia.  \nLa planta 2 suministra 40 millones de KW a Guadalajara solamente.  \nLa planta 3 suminsitra 60 millones de KW a morelia solamente.  \nDe esta manera, el costo de envio es de 540 u.m.",
      "metadata": {}
    },
    {
      "cell_type": "code",
      "source": "",
      "metadata": {},
      "outputs": [],
      "execution_count": null
    }
  ]
}