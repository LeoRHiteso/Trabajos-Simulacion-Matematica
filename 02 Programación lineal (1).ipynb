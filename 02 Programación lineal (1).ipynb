{
  "metadata": {
    "kernelspec": {
      "name": "python",
      "display_name": "Python (Pyodide)",
      "language": "python"
    },
    "language_info": {
      "codemirror_mode": {
        "name": "python",
        "version": 3
      },
      "file_extension": ".py",
      "mimetype": "text/x-python",
      "name": "python",
      "nbconvert_exporter": "python",
      "pygments_lexer": "ipython3",
      "version": "3.8"
    }
  },
  "nbformat_minor": 4,
  "nbformat": 4,
  "cells": [
    {
      "cell_type": "markdown",
      "source": "# Programación lineal",
      "metadata": {}
    },
    {
      "cell_type": "markdown",
      "source": "> La programación lineal es el campo de la optimización matemática dedicado a maximizar o minimizar (optimizar) funciones lineales, denominada función objetivo, de tal forma que las variables de dicha función estén sujetas a una serie de restricciones expresadas mediante un sistema de ecuaciones o inecuaciones también lineales.\n\n\n<img style=\"float: right; margin: 0px 0px 15px 15px;\" src=\"https://upload.wikimedia.org/wikipedia/commons/thumb/0/0c/Linear_Programming_Feasible_Region.svg/2000px-Linear_Programming_Feasible_Region.svg.png\" width=\"400px\" height=\"125px\" />\n\n<img style=\"float: center\" src=\"https://upload.wikimedia.org/wikipedia/commons/thumb/e/ef/3dpoly.svg/220px-3dpoly.svg.png\" width=\"350px\" height=\"125px\" />\n\n\n**Referencias:**\n- https://es.wikipedia.org/wiki/Programaci%C3%B3n_lineal\n- https://docs.scipy.org/doc/scipy-0.18.1/reference/optimize.html\n- http://bdigital.unal.edu.co/5037/4/guillermojimenezlozano.2006_Parte1.pdf ",
      "metadata": {}
    },
    {
      "cell_type": "markdown",
      "source": "## 1. Apuntes históricos\n\n<img style=\"float: right\" src=\"https://upload.wikimedia.org/wikipedia/commons/5/5e/JohnvonNeumann-LosAlamos.gif\" width=\"200px\" height=\"125px\" />\n\n\n- 1826:\tJoseph Fourier anticipa la programación lineal. Carl Friedrich Gauss resuelve ecuaciones lineales por eliminación \"gaussiana\".\n- 1902:\tGyula Farkas concibe un método para resolver sistemas de inecuaciones.\n- Es hasta la Segunda Guerra Mundial que se plantea la programación lineal como un modelo matemático para planificar gastos y retornos, de modo que se reduzcan costos de guerra y aumentar pérdidas del enemigo. Secreto hasta 1947 (posguerra).\n- 1947:\tGeorge Dantzig publica el algoritmo simplex y John von Neumann desarrolló la teoría de la dualidad. Se sabe que Leonid Kantoróvich también formuló la teoría en forma independiente.\n- Fue usado por muchas industrias en la planificación diaria.\n\n**Hasta acá, tiempos exponenciales de solución. Lo siguiente, tiempo polinomial.**\n\n- 1979: Leonid Khachiyan, diseñó el llamado Algoritmo del elipsoide, a través del cual demostró que el problema de la programación lineal es resoluble de manera eficiente, es decir, en tiempo polinomial.\n- 1984: Narendra Karmarkar introduce el método del punto interior para resolver problemas de programación lineal.\n\n<img style=\"float: center\" src=\"https://upload.wikimedia.org/wikipedia/commons/thumb/e/ef/Simplex-description-en.svg/240px-Simplex-description-en.svg.png\" width=\"200px\" height=\"125px\" />",
      "metadata": {}
    },
    {
      "cell_type": "markdown",
      "source": " $$ y \\geq 3x + 4 $$",
      "metadata": {}
    },
    {
      "cell_type": "markdown",
      "source": "## 2. Problemas de programación lineal\n\n### 2.1. Ejemplo básico\nUna multinacional farmacéutica desea fabricar un compuesto nutritivo a base de dos productos A y B.  El producto A contiene  $30\\%$ de proteínas,  un $1\\%$ de grasas y un  $10\\%$ de azúcares.  El producto B  contiene  un  $5\\%$  de proteínas,  un  $7\\%$ de grasas  y un  $10\\%$  de  azúcares.\n\nEl compuesto debe de tener,  al menos, $25g$ de proteínas,  $6g$ de grasas y $30g$ de azúcares.  El coste del producto A es de $0.6$ u.m./g  y el de B es de $0.2$  u.m./g\n\nSe desea encontrar la cantidad en gramos de cada producto para que el coste total sea mínimo.\n\nFormular el problema de decidir cuánto hacer de cada producto como un problema de programación lineal.",
      "metadata": {}
    },
    {
      "cell_type": "code",
      "source": "import matplotlib as mtp",
      "metadata": {
        "trusted": true
      },
      "outputs": [],
      "execution_count": null
    },
    {
      "cell_type": "markdown",
      "source": "#### Solución\n\n",
      "metadata": {}
    },
    {
      "cell_type": "markdown",
      "source": "**Criterio de optimización**  \nMenor costo posible  \n**Resolución**   \n2 variables  \n1. gramos de A\n2. gramos de B\n\n**Función**  \n$0.6A + 0.2B$  \n**Restricciones**  \n$ 0.3 A + 0.05 B \\geq 25$  \n$ 0.01A + 0.07B \\geq 6$  \n$ 0.1A + 0.1B \\geq 30$ \n",
      "metadata": {}
    },
    {
      "cell_type": "code",
      "source": "import numpy as np\nc= np.array([0.6,\n            0.2])\nAub = np.array([\n    [-0.3,-0.05],\n    [-0.01,-0.07],\n    [-0.1,-0.1]\n])\nbub = np.array([-25,-6,-30\n])\nimport scipy.optimize as opt\nopt.linprog(c, Aub, bub)",
      "metadata": {
        "trusted": true
      },
      "outputs": [
        {
          "execution_count": 7,
          "output_type": "execute_result",
          "data": {
            "text/plain": "        message: Optimization terminated successfully. (HiGHS Status 7: Optimal)\n        success: True\n         status: 0\n            fun: 76.0\n              x: [ 4.000e+01  2.600e+02]\n            nit: 2\n          lower:  residual: [ 4.000e+01  2.600e+02]\n                 marginals: [ 0.000e+00  0.000e+00]\n          upper:  residual: [       inf        inf]\n                 marginals: [ 0.000e+00  0.000e+00]\n          eqlin:  residual: []\n                 marginals: []\n        ineqlin:  residual: [ 0.000e+00  1.260e+01  0.000e+00]\n                 marginals: [-1.600e+00 -0.000e+00 -1.200e+00]\n mip_node_count: 0\n mip_dual_bound: 0.0\n        mip_gap: 0.0"
          },
          "metadata": {}
        }
      ],
      "execution_count": 7
    },
    {
      "cell_type": "markdown",
      "source": "Es decir, se necesitan 40 gramos del producto A y 260 gramos del producto B para conseguir el menor costo posible, que es de 76 u.m",
      "metadata": {}
    },
    {
      "cell_type": "markdown",
      "source": "### 2.2. Ejemplo básico 2\nUna  fábrica  de  carrocerías  de  automóviles  y camiones  tiene  dos naves. \n\n+ En  la nave A,  para  hacer  la  carrocería  de  un  camión,  se  invierten  siete  días-operario,  para  fabricar  la  de  un  coche  se  precisan dos días-operario.\n\n+ En la nave B se invierten tres días operario tanto en carrocerías de camión como de coche. \n\nPor limitaciones de mano de obra y maquinaria, la nave A dispone de $300$ días operario, y la nave B de $270$ días-operario.\n\nSi los beneficios que se obtienen por cada camión son de $600$ u.m y por  cada  automóvil  $200$ u.m,  ¿cuántas  unidades  de  cada  uno  se deben  producir  para maximizar las  ganancias? \n\n**Nota:** el problema $\\max_{\\boldsymbol{x}}\\boldsymbol{g}(\\boldsymbol{x})$ es equivalente a $\\min_{\\boldsymbol{x}}-\\boldsymbol{g}(\\boldsymbol{x})$.",
      "metadata": {}
    },
    {
      "cell_type": "markdown",
      "source": "**Criterio de optimización**  \nMaximizar ganancias  \n**Resolución**  \nSon cuatro variables.  \nCarros en a y b  \nCamiones en a y b  \n**Función**  \n$600Ca + 600Cb + 200Aa + 200Ab$  \n**Restricciones**  \nPara nave A: $7dias/camiones   Ca + 2dias/camiones  Aa ...$\n",
      "metadata": {}
    },
    {
      "cell_type": "code",
      "source": "import numpy as np\nc= np.array([-600,\n            -600,\n            -200,\n            -200])\nAub = np.array([\n    [7, 0, 2, 0],\n    [0, 3, 0, 3]\n])\nbub = np.array([300,\n                270])\nimport scipy.optimize as opt\nopt.linprog(c, Aub, bub)",
      "metadata": {
        "trusted": true
      },
      "outputs": [
        {
          "execution_count": 8,
          "output_type": "execute_result",
          "data": {
            "text/plain": "        message: Optimization terminated successfully. (HiGHS Status 7: Optimal)\n        success: True\n         status: 0\n            fun: -84000.0\n              x: [ 0.000e+00  9.000e+01  1.500e+02  0.000e+00]\n            nit: 0\n          lower:  residual: [ 0.000e+00  9.000e+01  1.500e+02  0.000e+00]\n                 marginals: [ 1.000e+02  0.000e+00  0.000e+00  4.000e+02]\n          upper:  residual: [       inf        inf        inf        inf]\n                 marginals: [ 0.000e+00  0.000e+00  0.000e+00  0.000e+00]\n          eqlin:  residual: []\n                 marginals: []\n        ineqlin:  residual: [ 0.000e+00  0.000e+00]\n                 marginals: [-1.000e+02 -2.000e+02]\n mip_node_count: 0\n mip_dual_bound: 0.0\n        mip_gap: 0.0"
          },
          "metadata": {}
        }
      ],
      "execution_count": 8
    },
    {
      "cell_type": "markdown",
      "source": "Es decir, con 0 carros en A, 90 carros en B, 150 camiones en A y 0 camiones en B se consigue el mayor número de ganacias, que es 84000",
      "metadata": {}
    },
    {
      "cell_type": "markdown",
      "source": "## 3. ¿Cómo se resuelve en python?\n\n### 3.1 Librería `SciPy`\n\n<img style=\"float: right; margin: 0px 0px 15px 15px;\" src=\"https://scipy.org/_static/images/scipy_med.png\" width=\"200px\" height=\"75px\" />\n\n`SciPy` es un software de código abierto basado en `Python` para matemáticas, ciencia e ingeniería. \n\nLa **Librería `SciPy`** es uno de los paquetes principales y provee varias rutinas numéricas eficientes. Entre ellas, para integración numérica y optimización.\n\nEn esta clase, y en lo que resta del módulo, estaremos utilizando el módulo `optimize` de la librería `SciPy`.\n\n**Importémoslo**",
      "metadata": {}
    },
    {
      "cell_type": "code",
      "source": "import scipy.optimize as opt",
      "metadata": {},
      "outputs": [],
      "execution_count": 2
    },
    {
      "cell_type": "markdown",
      "source": "# Importar el módulo optimize de la librería scipy",
      "metadata": {}
    },
    {
      "cell_type": "markdown",
      "source": "El módulo `optimize` que acabamos de importar contiene varias funciones para optimización y búsqueda de raices. Entre ellas se encuentra la función `linprog`\n\n---",
      "metadata": {}
    },
    {
      "cell_type": "code",
      "source": "opt.linprog?",
      "metadata": {},
      "outputs": [],
      "execution_count": 14
    },
    {
      "cell_type": "markdown",
      "source": "**Actividad.** Mónica hace aretes y cadenitas de joyería. Es tan buena, que todo lo que hace lo vende.\n\nLe toma 30 minutos hacer un par de aretes y una hora hacer una cadenita, y como Mónica también es estudihambre, solo dispone de 10 horas a la semana para hacer las joyas. Por otra parte, el material que compra solo le alcanza para hacer 15 unidades (el par de aretes cuenta como unidad) de joyas por semana.\n\nLa utilidad que le deja la venta de las joyas es $\\$15$ en cada par de aretes y $\\$20$ en cada cadenita.\n\n¿Cuántos pares de aretes y cuántas cadenitas debería hacer Mónica para maximizar su utilidad?\n\nFormular el problema en la forma explicada y obtener la solución gráfica (puede ser a mano).\n\n**Diez minutos: quien primero lo haga, comparte pantalla para explicarlo y le subiré la nota de alguna tarea a 100.**",
      "metadata": {}
    },
    {
      "cell_type": "markdown",
      "source": "**Criterio de optimización**\n\nMaximizar utilidad\n\n**Variables**  \n$Aretes = Ar$  \n$Cadenita = Ca$  \n**Función**  \n$15Ar + 20Ca$  \n**Restricciones**  \n$30Ar + 60Ca \\leq 600$  \n$Ar + Ca \\leq 15$",
      "metadata": {}
    },
    {
      "cell_type": "code",
      "source": "import numpy as np\nc= np.array([-15,\n            -20,\n])\nAub = np.array([\n    [30, 60],\n    [1,1]\n])\nbub = np.array([600,\n                15])\nimport scipy.optimize as opt\nopt.linprog(c, Aub, bub)",
      "metadata": {
        "trusted": true
      },
      "outputs": [
        {
          "execution_count": 1,
          "output_type": "execute_result",
          "data": {
            "text/plain": "        message: Optimization terminated successfully. (HiGHS Status 7: Optimal)\n        success: True\n         status: 0\n            fun: -250.0\n              x: [ 1.000e+01  5.000e+00]\n            nit: 2\n          lower:  residual: [ 1.000e+01  5.000e+00]\n                 marginals: [ 0.000e+00  0.000e+00]\n          upper:  residual: [       inf        inf]\n                 marginals: [ 0.000e+00  0.000e+00]\n          eqlin:  residual: []\n                 marginals: []\n        ineqlin:  residual: [ 0.000e+00  0.000e+00]\n                 marginals: [-1.667e-01 -1.000e+01]\n mip_node_count: 0\n mip_dual_bound: 0.0\n        mip_gap: 0.0"
          },
          "metadata": {}
        }
      ],
      "execution_count": 1
    },
    {
      "cell_type": "markdown",
      "source": "**Interpretación de resultados**  \nLa cantidad de mayor utilidad es de 1 par de Aretes y 5 cadenas. Resultando una ganancia de 250 en 5 horas y media de elaboración.",
      "metadata": {}
    },
    {
      "cell_type": "markdown",
      "source": "## 4. Problema de transporte 1\n- **Referencia**: http://bdigital.unal.edu.co/5037/4/guillermojimenezlozano.2006_Parte1.pdf\n\nUna  empresa tiene dos fábricas A y B.  En ellas  se fabrica un determinado  producto, a razón de 500  y 400 unidades por día respectivamente.  El producto  ha  de  ser distribuido posteriormente  a  tres  centros  C,  D  y  E,  que  requieren,  respectivamente,  200,  300  y  400  unidades.  Los  costos  de  transportar cada unidad del producto desde cada fábrica a cada centro distribuidor son los  indicados  en la tabla  siguiente: \n\nFactoría|C|D|E|Fabricación (Unidades)\n:----|----|----|----|----\nA|  50 u.m|60 u.m|10 u.m|500 u\nB|  25 u.m|40 u.m|20 u.m|400 u\nDemanda|200|300|400|\n\n**¿De qué manera  deben  organizar  el transporte a fin de que los gastos sean mínimos?**\n\n\nFormulemos el problema para ser resuelto por la programación lineal con\n- $x_1$: unidades transportadas de la factoría \"A\" al centro \"C\"\n- $x_2$: unidades transportadas de la factoría \"A\" al centro \"D\"\n- $x_3$: unidades transportadas de la factoría \"A\" al centro \"E\"\n- $x_4$: unidades transportadas de la factoría \"B\" al centro \"C\"\n- $x_5$: unidades transportadas de la factoría \"B\" al centro \"D\"\n- $x_6$: unidades transportadas de la factoría \"B\" al centro \"E\"\n\nse tienen las siguientes ecuaciones:\n\nRestricciones de la producción:\n\n- $x_{AC} + x_{AD} + x_{AE} \\leq 500$\n- $x_{BC} + x_{BD} + x_{BE} \\leq 400$\n\nRestricciones del consumo:\n\n- $x_{AC} + x_{BC} = 200$\n- $x_{AD} + x_{BD} = 300$\n- $x_{AE} + x_{BE} = 400$\n\nLa función objetivo será:\n\n$$\\min_{x_1,\\dots,x_6}50x_{AC} + 60x_{AD} + 10x_{AE} + 25x_{BC} + 40x_{BD} + 20x_{BE}$$\n\nResolver con `linprog`",
      "metadata": {}
    },
    {
      "cell_type": "code",
      "source": "import numpy as np\n#variables = ([Xac,Xad,Xae,Xbc,Xbd,Xbe])\nc= np.array([50,60,10,25,40,20])\n\nAub = np.array([\n    [1,1,1,0,0,0], [0,0,0,1,1,1]\n])\nbub = np.array([\n                [500,\n                400]\n])\nAeq = ([\n    [1,0,0,1,0,0],\n       [0,1,0,0,1,0],\n       [0,0,1,0,0,1]\n])\nBeq = ([\n    [200],\n    [300], \n    [400]\n])\nimport scipy.optimize as opt\nopt.linprog(c,Aub,bub,Aeq,Beq)\n#Primero se colocan las primeras restricciones (Aub,bub) y luego las segundas restricciones (Aeq, Beq)",
      "metadata": {
        "trusted": true
      },
      "outputs": [
        {
          "execution_count": 9,
          "output_type": "execute_result",
          "data": {
            "text/plain": "        message: Optimization terminated successfully. (HiGHS Status 7: Optimal)\n        success: True\n         status: 0\n            fun: 23000.0\n              x: [ 0.000e+00  1.000e+02  4.000e+02  2.000e+02  2.000e+02\n                   0.000e+00]\n            nit: 1\n          lower:  residual: [ 0.000e+00  1.000e+02  4.000e+02  2.000e+02\n                              2.000e+02  0.000e+00]\n                 marginals: [ 5.000e+00  0.000e+00  0.000e+00  0.000e+00\n                              0.000e+00  3.000e+01]\n          upper:  residual: [       inf        inf        inf        inf\n                                    inf        inf]\n                 marginals: [ 0.000e+00  0.000e+00  0.000e+00  0.000e+00\n                              0.000e+00  0.000e+00]\n          eqlin:  residual: [ 0.000e+00  0.000e+00  0.000e+00]\n                 marginals: [ 4.500e+01  6.000e+01  1.000e+01]\n        ineqlin:  residual: [ 0.000e+00  0.000e+00]\n                 marginals: [-0.000e+00 -2.000e+01]\n mip_node_count: 0\n mip_dual_bound: 0.0\n        mip_gap: 0.0"
          },
          "metadata": {}
        }
      ],
      "execution_count": 9
    },
    {
      "cell_type": "markdown",
      "source": "Por lo tanto, se necesitan de 100 unidades de A a D; 400 unidades de A a E; 200 unidades de B a C;por último, 200 unidades de B a D.",
      "metadata": {}
    },
    {
      "cell_type": "markdown",
      "source": "## 5. Optimización de inversión en bonos\n\n**Referencia:**",
      "metadata": {}
    },
    {
      "cell_type": "code",
      "source": "from IPython.display import YouTubeVideo\nYouTubeVideo('gukxBus8lOs')",
      "metadata": {
        "trusted": true
      },
      "outputs": [
        {
          "execution_count": 9,
          "output_type": "execute_result",
          "data": {
            "text/plain": "<IPython.lib.display.YouTubeVideo at 0x54612c8>",
            "text/html": "\n        <iframe\n            width=\"400\"\n            height=\"300\"\n            src=\"https://www.youtube.com/embed/gukxBus8lOs\"\n            frameborder=\"0\"\n            allowfullscreen\n            \n        ></iframe>\n        "
          },
          "metadata": {}
        }
      ],
      "execution_count": 9
    },
    {
      "cell_type": "markdown",
      "source": "El objetivo de este problema es determinar la mejor estrategia de inversión, dados diferentes tipos de bono, la máxima cantidad que puede ser invertida en cada bono, el porcentaje de retorno y los años de madurez. También hay una cantidad fija de dinero disponible ($\\$750,000$). Por lo menos la mitad de este dinero debe ser invertido en bonos con 10 años o más para la madurez. Se puede invertir un máximo del $25\\%$ de esta cantidad en cada bono. Finalmente, hay otra restricción que no permite usar más de $35\\%$ en bonos de alto riesgo.\n\nExisten seis (6) opciones de inversión con las letras correspondientes $A_i$\n\n1. $A_1$:(Tasa de retorno=$8.65\\%$; Años para la madurez=11, Riesgo=Bajo)\n1. $A_2$:(Tasa de retorno=$9.50\\%$; Años para la madurez=10, Riesgo=Alto)\n1. $A_3$:(Tasa de retorno=$10.00\\%$; Años para la madurez=6, Riesgo=Alto)\n1. $A_4$:(Tasa de retorno=$8.75\\%$; Años para la madurez=10, Riesgo=Bajo)\n1. $A_5$:(Tasa de retorno=$9.25\\%$; Años para la madurez=7, Riesgo=Alto)\n1. $A_6$:(Tasa de retorno=$9.00\\%$; Años para la madurez=13, Riesgo=Bajo)\n\nLo que se quiere entonces es maximizar el retorno que deja la inversión.\n\nEste problema puede ser resuelto con programación lineal. Formalmente, puede ser descrito como:\n\n$$\\max_{A_1,A_2,...,A_6}\\sum^{6}_{i=1} A_iR_i,$$\n\ndonde $A_i$ representa la cantidad invertida en la opción, y $R_i$ representa la tasa de retorno respectiva.",
      "metadata": {}
    },
    {
      "cell_type": "markdown",
      "source": "**Criterio de optimización**  \nMaximizar el retorno de la inversión  \n\n**Variables**\n1. $A_1$:(Tasa de retorno=$8.65\\%$; Años para la madurez=11, Riesgo=Bajo)\n1. $A_2$:(Tasa de retorno=$9.50\\%$; Años para la madurez=10, Riesgo=Alto)\n1. $A_3$:(Tasa de retorno=$10.00\\%$; Años para la madurez=6, Riesgo=Alto)\n1. $A_4$:(Tasa de retorno=$8.75\\%$; Años para la madurez=10, Riesgo=Bajo)\n1. $A_5$:(Tasa de retorno=$9.25\\%$; Años para la madurez=7, Riesgo=Alto)\n1. $A_6$:(Tasa de retorno=$9.00\\%$; Años para la madurez=13, Riesgo=Bajo)\n\n**Función**  \n$0.0865A_1 + 0.0950A_2 + 0.1A_3 + 0.0875A_4 + 0.0925A_5 + 0.09A_6$  \n\n**Restricciones**  \n$A_5 + A_3 + A_2 \\leq 0.35$  \n$A_1 + A_2 + A_4 + A_6 \\geq 0.5$\n",
      "metadata": {}
    },
    {
      "cell_type": "code",
      "source": "import numpy as np\n#variables = ([A1,A2,A3,A4,A5,A6])\nc= np.array([0.0865,0.0950,0.1,0.0875,0.0925,0.09])\n\nAub = np.array([\n    [0,1,1,0,1,0], [-1,-1,0,-1,0,-1]\n])\nbub = np.array([\n                [0.35,\n                -0.5]\n])\n\nimport scipy.optimize as opt\nopt.linprog(c,Aub,bub)\n",
      "metadata": {
        "trusted": true
      },
      "outputs": [
        {
          "execution_count": 11,
          "output_type": "execute_result",
          "data": {
            "text/plain": "        message: Optimization terminated successfully. (HiGHS Status 7: Optimal)\n        success: True\n         status: 0\n            fun: 0.04325\n              x: [ 5.000e-01  0.000e+00  0.000e+00  0.000e+00  0.000e+00\n                   0.000e+00]\n            nit: 0\n          lower:  residual: [ 5.000e-01  0.000e+00  0.000e+00  0.000e+00\n                              0.000e+00  0.000e+00]\n                 marginals: [ 0.000e+00  8.500e-03  1.000e-01  1.000e-03\n                              9.250e-02  3.500e-03]\n          upper:  residual: [       inf        inf        inf        inf\n                                    inf        inf]\n                 marginals: [ 0.000e+00  0.000e+00  0.000e+00  0.000e+00\n                              0.000e+00  0.000e+00]\n          eqlin:  residual: []\n                 marginals: []\n        ineqlin:  residual: [ 3.500e-01  0.000e+00]\n                 marginals: [-0.000e+00 -8.650e-02]\n mip_node_count: 0\n mip_dual_bound: 0.0\n        mip_gap: 0.0"
          },
          "metadata": {}
        }
      ],
      "execution_count": 11
    },
    {
      "cell_type": "code",
      "source": "",
      "metadata": {
        "trusted": true
      },
      "outputs": [],
      "execution_count": null
    }
  ]
}