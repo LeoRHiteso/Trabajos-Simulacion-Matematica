{
 "cells": [
  {
   "cell_type": "markdown",
   "metadata": {},
   "source": [
    "# Tarea - Ajuste de curvas"
   ]
  },
  {
   "cell_type": "code",
   "execution_count": 1,
   "metadata": {},
   "outputs": [],
   "source": [
    "import numpy as np\n",
    "import pandas as pd\n",
    "import matplotlib.pyplot as plt"
   ]
  },
  {
   "cell_type": "markdown",
   "metadata": {},
   "source": [
    "---\n",
    "### Problema 1\n",
    "\n",
    "Los siguientes datos representan el costo en dólares de la electricidad según Western Electricity Coordinating Council desde el 2014 (y su pronóstico para el 2040)\n",
    "\n",
    "Tomado de:\n",
    "https://www.quandl.com/data/EIA/AEO_2016_REF_NO_CPP_PRCE_NA_COMM_NA_ELC_NA_WECCRKS_NCNTPKWH_A-Electricity-End-Use-Prices-Commercial-Western-Electricity-Coordinating-Council-Rockies-No-CPP-AEO2016"
   ]
  },
  {
   "cell_type": "code",
   "execution_count": 14,
   "metadata": {},
   "outputs": [],
   "source": [
    "import numpy as np\n",
    "# Datos extraidos de la página de quandl\n",
    "costo = np.array([10.051101,  9.259127,  9.444813,  9.557723,  9.977324, 10.298326,\n",
    "       10.447217, 10.550506, 10.590784, 10.657418, 10.743085, 10.831965,\n",
    "       10.988435, 11.153055, 11.313326, 11.557165, 11.860136, 12.122511,\n",
    "       12.356448, 12.611391, 12.814569, 13.111372, 13.357134, 13.559012,\n",
    "       13.85861 , 14.135924, 14.436149])"
   ]
  },
  {
   "cell_type": "markdown",
   "metadata": {},
   "source": [
    "1. Ajuste estos datos a polinomios de grado 1 hasta 3 (los datos en $x$ corresponden a los años de 2014 a 2040, sin embargo son valores muy grandes para elevarlos a una potencia, use una representación para estos años, por ejemplo $2014 \\rightarrow 0$ y $2040\\rightarrow 26$).\n",
    "\n",
    "2. Muestre las tres curvas ajustadas junto a los datos de los costos en un solo gráfico"
   ]
  },
  {
   "cell_type": "code",
   "execution_count": 24,
   "metadata": {},
   "outputs": [
    {
     "data": {
      "text/html": [
       "<div>\n",
       "<style scoped>\n",
       "    .dataframe tbody tr th:only-of-type {\n",
       "        vertical-align: middle;\n",
       "    }\n",
       "\n",
       "    .dataframe tbody tr th {\n",
       "        vertical-align: top;\n",
       "    }\n",
       "\n",
       "    .dataframe thead th {\n",
       "        text-align: right;\n",
       "    }\n",
       "</style>\n",
       "<table border=\"1\" class=\"dataframe\">\n",
       "  <thead>\n",
       "    <tr style=\"text-align: right;\">\n",
       "      <th></th>\n",
       "      <th>2014</th>\n",
       "      <th>2015</th>\n",
       "      <th>2016</th>\n",
       "      <th>2017</th>\n",
       "      <th>2018</th>\n",
       "      <th>2019</th>\n",
       "      <th>2020</th>\n",
       "      <th>2021</th>\n",
       "      <th>2022</th>\n",
       "      <th>2023</th>\n",
       "      <th>...</th>\n",
       "      <th>2031</th>\n",
       "      <th>2032</th>\n",
       "      <th>2033</th>\n",
       "      <th>2034</th>\n",
       "      <th>2035</th>\n",
       "      <th>2036</th>\n",
       "      <th>2037</th>\n",
       "      <th>2038</th>\n",
       "      <th>2039</th>\n",
       "      <th>2040</th>\n",
       "    </tr>\n",
       "  </thead>\n",
       "  <tbody>\n",
       "    <tr>\n",
       "      <th>Costo</th>\n",
       "      <td>10.051101</td>\n",
       "      <td>9.259127</td>\n",
       "      <td>9.444813</td>\n",
       "      <td>9.557723</td>\n",
       "      <td>9.977324</td>\n",
       "      <td>10.298326</td>\n",
       "      <td>10.447217</td>\n",
       "      <td>10.550506</td>\n",
       "      <td>10.590784</td>\n",
       "      <td>10.657418</td>\n",
       "      <td>...</td>\n",
       "      <td>12.122511</td>\n",
       "      <td>12.356448</td>\n",
       "      <td>12.611391</td>\n",
       "      <td>12.814569</td>\n",
       "      <td>13.111372</td>\n",
       "      <td>13.357134</td>\n",
       "      <td>13.559012</td>\n",
       "      <td>13.85861</td>\n",
       "      <td>14.135924</td>\n",
       "      <td>14.436149</td>\n",
       "    </tr>\n",
       "  </tbody>\n",
       "</table>\n",
       "<p>1 rows × 27 columns</p>\n",
       "</div>"
      ],
      "text/plain": [
       "            2014      2015      2016      2017      2018       2019  \\\n",
       "Costo  10.051101  9.259127  9.444813  9.557723  9.977324  10.298326   \n",
       "\n",
       "            2020       2021       2022       2023  ...       2031       2032  \\\n",
       "Costo  10.447217  10.550506  10.590784  10.657418  ...  12.122511  12.356448   \n",
       "\n",
       "            2033       2034       2035       2036       2037      2038  \\\n",
       "Costo  12.611391  12.814569  13.111372  13.357134  13.559012  13.85861   \n",
       "\n",
       "            2039       2040  \n",
       "Costo  14.135924  14.436149  \n",
       "\n",
       "[1 rows x 27 columns]"
      ]
     },
     "execution_count": 24,
     "metadata": {},
     "output_type": "execute_result"
    }
   ],
   "source": [
    "import pandas as pd\n",
    "import scipy.optimize as opt\n",
    "\n",
    "    \n",
    "an = pd.DataFrame(columns=[2014,2015,2016,2017,2018,2019,2020,2021,2022,2023,\n",
    "                           2024,2025,2026,2027,2028,2029,2030,2031,2032,2033,\n",
    "                           2034,2035,2036,2037,2038,2039,2040], index = ['Costo'])\n",
    "an.loc['Costo', :] = [10.051101,  9.259127,  9.444813,  9.557723,  9.977324, 10.298326,\n",
    "       10.447217, 10.550506, 10.590784, 10.657418, 10.743085, 10.831965,\n",
    "       10.988435, 11.153055, 11.313326, 11.557165, 11.860136, 12.122511,\n",
    "       12.356448, 12.611391, 12.814569, 13.111372, 13.357134, 13.559012,\n",
    "       13.85861 , 14.135924, 14.436149]\n",
    "an"
   ]
  },
  {
   "cell_type": "code",
   "execution_count": 35,
   "metadata": {},
   "outputs": [],
   "source": [
    "ajuste_columns=np.array([14,15,16,17,18,19,20,21,22,23,\n",
    "                           24,25,26,27,28,29,30,31,32,33,\n",
    "                           34,35,36,37,38,39,40])"
   ]
  },
  {
   "cell_type": "code",
   "execution_count": 31,
   "metadata": {},
   "outputs": [],
   "source": [
    "def funcion_de_costo(beta, X, y) :\n",
    "    r, c = X.shape\n",
    "    beta = np.reshape(beta, [c, 1])\n",
    "    y_pred = X @ beta\n",
    "    error = y_pred - y\n",
    "    return (error.T @ error)[0][0]\n",
    "\n",
    "import numpy as np\n",
    "\n",
    "m = len(costo)\n",
    "ones = np.ones([m, 1])\n",
    "fecha = np.reshape(ajuste_columns, [m, 1])\n",
    "X = np.hstack((ones, fecha))\n",
    "y= np.reshape(costo, [m, 1])"
   ]
  },
  {
   "cell_type": "code",
   "execution_count": 32,
   "metadata": {},
   "outputs": [
    {
     "data": {
      "text/plain": [
       "  message: Optimization terminated successfully.\n",
       "  success: True\n",
       "   status: 0\n",
       "      fun: 2.3704889518283725\n",
       "        x: [ 6.502e+00  1.867e-01]\n",
       "      nit: 5\n",
       "      jac: [-1.192e-07  2.980e-08]\n",
       " hess_inv: [[ 2.410e-01 -8.242e-03]\n",
       "            [-8.242e-03  3.053e-04]]\n",
       "     nfev: 21\n",
       "     njev: 7"
      ]
     },
     "execution_count": 32,
     "metadata": {},
     "output_type": "execute_result"
    }
   ],
   "source": [
    "import scipy.optimize as opt\n",
    "beta = [1,1]\n",
    "opt.minimize(funcion_de_costo, beta, args=(X,y))"
   ]
  },
  {
   "cell_type": "code",
   "execution_count": 40,
   "metadata": {},
   "outputs": [
    {
     "data": {
      "text/plain": [
       "  message: Optimization terminated successfully.\n",
       "  success: True\n",
       "   status: 0\n",
       "      fun: 0.8443848115634303\n",
       "        x: [ 9.435e+00 -5.031e-02  4.389e-03]\n",
       "      nit: 8\n",
       "      jac: [ 0.000e+00 -7.451e-09 -2.235e-08]\n",
       " hess_inv: [[ 3.062e+00 -2.362e-01  4.221e-03]\n",
       "            [-2.362e-01  1.872e-02 -3.410e-04]\n",
       "            [ 4.221e-03 -3.410e-04  6.315e-06]]\n",
       "     nfev: 44\n",
       "     njev: 11"
      ]
     },
     "execution_count": 40,
     "metadata": {},
     "output_type": "execute_result"
    }
   ],
   "source": [
    "ones = np.ones([m, 1])\n",
    "fecha = np.reshape(ajuste_columns, [m, 1])\n",
    "fecha2 = np.reshape((ajuste_columns)**2,[m,1])\n",
    "X = np.hstack((ones, fecha, fecha2))\n",
    "y= np.reshape(costo, [m, 1])\n",
    "import scipy.optimize as opt\n",
    "beta2 = [1,1,1]\n",
    "opt.minimize(funcion_de_costo, beta2, args=(X,y))"
   ]
  },
  {
   "cell_type": "code",
   "execution_count": 39,
   "metadata": {},
   "outputs": [
    {
     "data": {
      "text/plain": [
       "  message: Desired error not necessarily achieved due to precision loss.\n",
       "  success: False\n",
       "   status: 2\n",
       "      fun: 0.8413227982360588\n",
       "        x: [ 9.034e+00 -2.731e-03  2.612e-03  2.111e-05]\n",
       "      nit: 12\n",
       "      jac: [-1.529e-02  4.493e-03 -5.946e-02 -2.316e+00]\n",
       " hess_inv: [[ 4.130e+01 -4.983e+00  1.892e-01 -2.284e-03]\n",
       "            [-4.983e+00  6.079e-01 -2.331e-02  2.835e-04]\n",
       "            [ 1.892e-01 -2.331e-02  9.015e-04 -1.105e-05]\n",
       "            [-2.284e-03  2.835e-04 -1.105e-05  1.364e-07]]\n",
       "     nfev: 362\n",
       "     njev: 70"
      ]
     },
     "execution_count": 39,
     "metadata": {},
     "output_type": "execute_result"
    }
   ],
   "source": [
    "ones = np.ones([m, 1])\n",
    "fecha = np.reshape(ajuste_columns, [m, 1])\n",
    "fecha2 = np.reshape((ajuste_columns)**2,[m,1])\n",
    "fecha3 = np.reshape(ajuste_columns**3, [m,1])\n",
    "X = np.hstack((ones, fecha, fecha2,fecha3))\n",
    "y= np.reshape(costo, [m, 1])\n",
    "import scipy.optimize as opt\n",
    "beta3 = [1,1,1,1]\n",
    "opt.minimize(funcion_de_costo, beta3, args=(X,y))"
   ]
  },
  {
   "cell_type": "markdown",
   "metadata": {},
   "source": [
    "**Grafico**"
   ]
  },
  {
   "cell_type": "code",
   "execution_count": 69,
   "metadata": {},
   "outputs": [
    {
     "data": {
      "image/png": "[encoded data removed]",
      "text/plain": [
       "<Figure size 640x480 with 1 Axes>"
      ]
     },
     "metadata": {},
     "output_type": "display_data"
    }
   ],
   "source": [
    "import matplotlib.pyplot as plt\n",
    "\n",
    "x = np.linspace(14, 40 )\n",
    "y =  6.502e+00 + 1.867e-01*x\n",
    "y2 = 9.435e+00 - 5.031e-02*x + 4.389e-03*x**2\n",
    "y3 = 9.034e+00 - 2.731e-03*x + 2.612e-03*x**2 + 2.111e-05*x**3\n",
    "y4 = ([10.051101,  9.259127,  9.444813,  9.557723,  9.977324, 10.298326,\n",
    "       10.447217, 10.550506, 10.590784, 10.657418, 10.743085, 10.831965,\n",
    "       10.988435, 11.153055, 11.313326, 11.557165, 11.860136, 12.122511,\n",
    "       12.356448, 12.611391, 12.814569, 13.111372, 13.357134, 13.559012,\n",
    "       13.85861 , 14.135924, 14.436149])\n",
    "x2 = ([14,15,16,17,18,19,20,21,22,23,\n",
    "       24,25,26,27,28,29,30,31,32,33,\n",
    "       34,35,36,37,38,39,40])\n",
    "plt.figure()\n",
    "plt.plot(x, y, label=\"lineal\")\n",
    "plt.plot(x, y2, \"r-\", label=\"cuadratica\")\n",
    "plt.plot(x, y3, \"g-\",label=\"cubica\")\n",
    "plt.plot(x2, y4, \"o\", label=\"Costos\", linestyle=\"--\")\n",
    "\n",
    "plt.grid()\n",
    "plt.legend()\n",
    "plt.show()\n"
   ]
  },
  {
   "cell_type": "markdown",
   "metadata": {},
   "source": [
    "---"
   ]
  },
  {
   "cell_type": "markdown",
   "metadata": {},
   "source": [
    "___\n",
    "### Problema 2\n",
    "\n",
    "El archivo `population_data.csv` contiene información histórica anual de México relativa a la población, nacimientos y muertes desde el año 1950 hasta el año 2015. La primer columna corresponde a los años, la segunda a la población, la tercera a los nacimientos y la última a los decesos.\n",
    "\n",
    "Tomado de: https://en.wikipedia.org/wiki/Demographics_of_Mexico.\n",
    "\n",
    "Importe estos datos usando la función `read_csv` del paquete `pandas`\n",
    "\n",
    "1. Usando los años como variable independiente $x$ y la población como variable dependiente $y$, ajustar polinomios de grado 1 hasta grado 3.\n",
    "\n",
    "    * Mostrar en un solo gráfico los datos de población contra los años, y los polinomios ajustados.\n",
    "\n",
    "    * Graficar el error cuadrático acumulado contra el número de términos.\n",
    "\n",
    "2. Repetir el punto 1 usando los nacimientos como variable dependiente $y$. Grafique las curvas ajustadas junto con los datos de nacimientos. Vea en un gráfico el error acumulado."
   ]
  },
  {
   "cell_type": "markdown",
   "metadata": {},
   "source": [
    "---"
   ]
  },
  {
   "cell_type": "code",
   "execution_count": 3,
   "metadata": {},
   "outputs": [
    {
     "data": {
      "text/html": [
       "<div>\n",
       "<style scoped>\n",
       "    .dataframe tbody tr th:only-of-type {\n",
       "        vertical-align: middle;\n",
       "    }\n",
       "\n",
       "    .dataframe tbody tr th {\n",
       "        vertical-align: top;\n",
       "    }\n",
       "\n",
       "    .dataframe thead th {\n",
       "        text-align: right;\n",
       "    }\n",
       "</style>\n",
       "<table border=\"1\" class=\"dataframe\">\n",
       "  <thead>\n",
       "    <tr style=\"text-align: right;\">\n",
       "      <th></th>\n",
       "      <th>Year</th>\n",
       "      <th>Poblacion</th>\n",
       "      <th>Nacimientos</th>\n",
       "      <th>Decesos</th>\n",
       "    </tr>\n",
       "  </thead>\n",
       "  <tbody>\n",
       "    <tr>\n",
       "      <th>0</th>\n",
       "      <td>1950</td>\n",
       "      <td>28296</td>\n",
       "      <td>1174947</td>\n",
       "      <td>418430</td>\n",
       "    </tr>\n",
       "    <tr>\n",
       "      <th>1</th>\n",
       "      <td>1951</td>\n",
       "      <td>29110</td>\n",
       "      <td>1183788</td>\n",
       "      <td>458238</td>\n",
       "    </tr>\n",
       "    <tr>\n",
       "      <th>2</th>\n",
       "      <td>1952</td>\n",
       "      <td>29980</td>\n",
       "      <td>1195209</td>\n",
       "      <td>408823</td>\n",
       "    </tr>\n",
       "    <tr>\n",
       "      <th>3</th>\n",
       "      <td>1953</td>\n",
       "      <td>30904</td>\n",
       "      <td>1261775</td>\n",
       "      <td>446127</td>\n",
       "    </tr>\n",
       "    <tr>\n",
       "      <th>4</th>\n",
       "      <td>1954</td>\n",
       "      <td>31880</td>\n",
       "      <td>1339837</td>\n",
       "      <td>378752</td>\n",
       "    </tr>\n",
       "    <tr>\n",
       "      <th>...</th>\n",
       "      <td>...</td>\n",
       "      <td>...</td>\n",
       "      <td>...</td>\n",
       "      <td>...</td>\n",
       "    </tr>\n",
       "    <tr>\n",
       "      <th>61</th>\n",
       "      <td>2011</td>\n",
       "      <td>115683</td>\n",
       "      <td>2586287</td>\n",
       "      <td>590693</td>\n",
       "    </tr>\n",
       "    <tr>\n",
       "      <th>62</th>\n",
       "      <td>2012</td>\n",
       "      <td>117054</td>\n",
       "      <td>2498880</td>\n",
       "      <td>602354</td>\n",
       "    </tr>\n",
       "    <tr>\n",
       "      <th>63</th>\n",
       "      <td>2013</td>\n",
       "      <td>118395</td>\n",
       "      <td>2478889</td>\n",
       "      <td>623599</td>\n",
       "    </tr>\n",
       "    <tr>\n",
       "      <th>64</th>\n",
       "      <td>2014</td>\n",
       "      <td>119713</td>\n",
       "      <td>2463420</td>\n",
       "      <td>633641</td>\n",
       "    </tr>\n",
       "    <tr>\n",
       "      <th>65</th>\n",
       "      <td>2015</td>\n",
       "      <td>121005</td>\n",
       "      <td>2353596</td>\n",
       "      <td>655694</td>\n",
       "    </tr>\n",
       "  </tbody>\n",
       "</table>\n",
       "<p>66 rows × 4 columns</p>\n",
       "</div>"
      ],
      "text/plain": [
       "    Year  Poblacion  Nacimientos  Decesos\n",
       "0   1950      28296      1174947   418430\n",
       "1   1951      29110      1183788   458238\n",
       "2   1952      29980      1195209   408823\n",
       "3   1953      30904      1261775   446127\n",
       "4   1954      31880      1339837   378752\n",
       "..   ...        ...          ...      ...\n",
       "61  2011     115683      2586287   590693\n",
       "62  2012     117054      2498880   602354\n",
       "63  2013     118395      2478889   623599\n",
       "64  2014     119713      2463420   633641\n",
       "65  2015     121005      2353596   655694\n",
       "\n",
       "[66 rows x 4 columns]"
      ]
     },
     "execution_count": 3,
     "metadata": {},
     "output_type": "execute_result"
    }
   ],
   "source": [
    "import pandas as pd\n",
    "data = pd.read_csv(\"population_data.csv\") \n",
    "data"
   ]
  },
  {
   "cell_type": "code",
   "execution_count": 61,
   "metadata": {},
   "outputs": [
    {
     "data": {
      "text/html": [
       "<div>\n",
       "<style scoped>\n",
       "    .dataframe tbody tr th:only-of-type {\n",
       "        vertical-align: middle;\n",
       "    }\n",
       "\n",
       "    .dataframe tbody tr th {\n",
       "        vertical-align: top;\n",
       "    }\n",
       "\n",
       "    .dataframe thead th {\n",
       "        text-align: right;\n",
       "    }\n",
       "</style>\n",
       "<table border=\"1\" class=\"dataframe\">\n",
       "  <thead>\n",
       "    <tr style=\"text-align: right;\">\n",
       "      <th></th>\n",
       "      <th>Year</th>\n",
       "      <th>Poblacion</th>\n",
       "    </tr>\n",
       "  </thead>\n",
       "  <tbody>\n",
       "    <tr>\n",
       "      <th>0</th>\n",
       "      <td>1950</td>\n",
       "      <td>28296</td>\n",
       "    </tr>\n",
       "    <tr>\n",
       "      <th>1</th>\n",
       "      <td>1951</td>\n",
       "      <td>29110</td>\n",
       "    </tr>\n",
       "    <tr>\n",
       "      <th>2</th>\n",
       "      <td>1952</td>\n",
       "      <td>29980</td>\n",
       "    </tr>\n",
       "    <tr>\n",
       "      <th>3</th>\n",
       "      <td>1953</td>\n",
       "      <td>30904</td>\n",
       "    </tr>\n",
       "    <tr>\n",
       "      <th>4</th>\n",
       "      <td>1954</td>\n",
       "      <td>31880</td>\n",
       "    </tr>\n",
       "    <tr>\n",
       "      <th>...</th>\n",
       "      <td>...</td>\n",
       "      <td>...</td>\n",
       "    </tr>\n",
       "    <tr>\n",
       "      <th>61</th>\n",
       "      <td>2011</td>\n",
       "      <td>115683</td>\n",
       "    </tr>\n",
       "    <tr>\n",
       "      <th>62</th>\n",
       "      <td>2012</td>\n",
       "      <td>117054</td>\n",
       "    </tr>\n",
       "    <tr>\n",
       "      <th>63</th>\n",
       "      <td>2013</td>\n",
       "      <td>118395</td>\n",
       "    </tr>\n",
       "    <tr>\n",
       "      <th>64</th>\n",
       "      <td>2014</td>\n",
       "      <td>119713</td>\n",
       "    </tr>\n",
       "    <tr>\n",
       "      <th>65</th>\n",
       "      <td>2015</td>\n",
       "      <td>121005</td>\n",
       "    </tr>\n",
       "  </tbody>\n",
       "</table>\n",
       "<p>66 rows × 2 columns</p>\n",
       "</div>"
      ],
      "text/plain": [
       "    Year  Poblacion\n",
       "0   1950      28296\n",
       "1   1951      29110\n",
       "2   1952      29980\n",
       "3   1953      30904\n",
       "4   1954      31880\n",
       "..   ...        ...\n",
       "61  2011     115683\n",
       "62  2012     117054\n",
       "63  2013     118395\n",
       "64  2014     119713\n",
       "65  2015     121005\n",
       "\n",
       "[66 rows x 2 columns]"
      ]
     },
     "execution_count": 61,
     "metadata": {},
     "output_type": "execute_result"
    }
   ],
   "source": [
    "columna = [\"Year\",\"Poblacion\"]\n",
    "modif_data = data[columna]\n",
    "modif_data"
   ]
  },
  {
   "cell_type": "code",
   "execution_count": 80,
   "metadata": {},
   "outputs": [
    {
     "data": {
      "text/html": [
       "<div>\n",
       "<style scoped>\n",
       "    .dataframe tbody tr th:only-of-type {\n",
       "        vertical-align: middle;\n",
       "    }\n",
       "\n",
       "    .dataframe tbody tr th {\n",
       "        vertical-align: top;\n",
       "    }\n",
       "\n",
       "    .dataframe thead th {\n",
       "        text-align: right;\n",
       "    }\n",
       "</style>\n",
       "<table border=\"1\" class=\"dataframe\">\n",
       "  <thead>\n",
       "    <tr style=\"text-align: right;\">\n",
       "      <th></th>\n",
       "      <th>Year</th>\n",
       "      <th>Poblacion</th>\n",
       "    </tr>\n",
       "  </thead>\n",
       "  <tbody>\n",
       "    <tr>\n",
       "      <th>0</th>\n",
       "      <td>1</td>\n",
       "      <td>28296</td>\n",
       "    </tr>\n",
       "    <tr>\n",
       "      <th>1</th>\n",
       "      <td>2</td>\n",
       "      <td>29110</td>\n",
       "    </tr>\n",
       "    <tr>\n",
       "      <th>2</th>\n",
       "      <td>3</td>\n",
       "      <td>29980</td>\n",
       "    </tr>\n",
       "    <tr>\n",
       "      <th>3</th>\n",
       "      <td>4</td>\n",
       "      <td>30904</td>\n",
       "    </tr>\n",
       "    <tr>\n",
       "      <th>4</th>\n",
       "      <td>5</td>\n",
       "      <td>31880</td>\n",
       "    </tr>\n",
       "    <tr>\n",
       "      <th>...</th>\n",
       "      <td>...</td>\n",
       "      <td>...</td>\n",
       "    </tr>\n",
       "    <tr>\n",
       "      <th>61</th>\n",
       "      <td>62</td>\n",
       "      <td>115683</td>\n",
       "    </tr>\n",
       "    <tr>\n",
       "      <th>62</th>\n",
       "      <td>63</td>\n",
       "      <td>117054</td>\n",
       "    </tr>\n",
       "    <tr>\n",
       "      <th>63</th>\n",
       "      <td>64</td>\n",
       "      <td>118395</td>\n",
       "    </tr>\n",
       "    <tr>\n",
       "      <th>64</th>\n",
       "      <td>65</td>\n",
       "      <td>119713</td>\n",
       "    </tr>\n",
       "    <tr>\n",
       "      <th>65</th>\n",
       "      <td>66</td>\n",
       "      <td>121005</td>\n",
       "    </tr>\n",
       "  </tbody>\n",
       "</table>\n",
       "<p>66 rows × 2 columns</p>\n",
       "</div>"
      ],
      "text/plain": [
       "    Year  Poblacion\n",
       "0      1      28296\n",
       "1      2      29110\n",
       "2      3      29980\n",
       "3      4      30904\n",
       "4      5      31880\n",
       "..   ...        ...\n",
       "61    62     115683\n",
       "62    63     117054\n",
       "63    64     118395\n",
       "64    65     119713\n",
       "65    66     121005\n",
       "\n",
       "[66 rows x 2 columns]"
      ]
     },
     "execution_count": 80,
     "metadata": {},
     "output_type": "execute_result"
    }
   ],
   "source": [
    "def scaler(variable) : \n",
    "    variable = variable - min(variable) +1\n",
    "    return variable\n",
    "\n",
    "modif_data.loc[:, \"Year\"] = scaler(modif_data[\"Year\"])\n",
    "modif_data"
   ]
  },
  {
   "cell_type": "code",
   "execution_count": 81,
   "metadata": {},
   "outputs": [],
   "source": [
    "def funcion_de_costo(beta, X, y) :\n",
    "    r, c = X.shape\n",
    "    beta = np.reshape(beta, [c, 1])\n",
    "    y_pred = X @ beta\n",
    "    error = y_pred - y\n",
    "    return (error.T @ error)[0][0]\n",
    "\n",
    "import numpy as np\n",
    "\n",
    "m = len(data[\"Year\"])\n",
    "ones = np.ones([m, 1])\n",
    "Poblacion = np.reshape(data[\"Poblacion\"], [m, 1])\n",
    "X = np.hstack((ones, Poblacion))\n",
    "y= np.reshape(data[\"Year\"], [m, 1])"
   ]
  },
  {
   "cell_type": "code",
   "execution_count": 79,
   "metadata": {},
   "outputs": [
    {
     "data": {
      "text/plain": [
       "66"
      ]
     },
     "execution_count": 79,
     "metadata": {},
     "output_type": "execute_result"
    }
   ],
   "source": []
  },
  {
   "cell_type": "code",
   "execution_count": 82,
   "metadata": {},
   "outputs": [
    {
     "data": {
      "text/plain": [
       "  message: Optimization terminated successfully.\n",
       "  success: True\n",
       "   status: 0\n",
       "      fun: 88.65994692045965\n",
       "        x: [ 1.935e+03  6.452e-04]\n",
       "      nit: 7\n",
       "      jac: [-1.907e-06 -2.861e-06]\n",
       " hess_inv: [[ 5.576e-02 -6.484e-07]\n",
       "            [-6.484e-07  8.724e-12]]\n",
       "     nfev: 27\n",
       "     njev: 9"
      ]
     },
     "execution_count": 82,
     "metadata": {},
     "output_type": "execute_result"
    }
   ],
   "source": [
    "import scipy.optimize as opt\n",
    "beta = [1,1]\n",
    "opt.minimize(funcion_de_costo, beta, args=(X,y))"
   ]
  },
  {
   "cell_type": "code",
   "execution_count": 83,
   "metadata": {},
   "outputs": [],
   "source": [
    "\n",
    "m = len(data[\"Year\"])\n",
    "ones = np.ones([m, 1])\n",
    "Poblacion = np.reshape(data[\"Poblacion\"], [m, 1])\n",
    "Poblacion2 = np.reshape(data[\"Poblacion\"]**2,[m, 1])\n",
    "X = np.hstack((ones, Poblacion, Poblacion2))\n"
   ]
  },
  {
   "cell_type": "code",
   "execution_count": 84,
   "metadata": {},
   "outputs": [
    {
     "data": {
      "text/plain": [
       "  message: Desired error not necessarily achieved due to precision loss.\n",
       "  success: False\n",
       "   status: 2\n",
       "      fun: 4026357.195247286\n",
       "        x: [ 2.360e+03  4.939e-04 -5.078e-08]\n",
       "      nit: 7\n",
       "      jac: [ 1.181e+04 -6.859e+06  5.180e+09]\n",
       " hess_inv: [[ 1.027e-07 -3.244e-12  4.903e-17]\n",
       "            [-3.244e-12  2.071e-11 -2.064e-16]\n",
       "            [ 4.903e-17 -2.064e-16  2.182e-21]]\n",
       "     nfev: 220\n",
       "     njev: 52"
      ]
     },
     "execution_count": 84,
     "metadata": {},
     "output_type": "execute_result"
    }
   ],
   "source": [
    "import scipy.optimize as opt\n",
    "beta2 = [1,1,1]\n",
    "opt.minimize(funcion_de_costo, beta2, args=(X,y))"
   ]
  },
  {
   "cell_type": "code",
   "execution_count": 85,
   "metadata": {},
   "outputs": [],
   "source": [
    "\n",
    "m = len(data[\"Year\"])\n",
    "ones = np.ones([m, 1])\n",
    "Poblacion = np.reshape(data[\"Poblacion\"], [m, 1])\n",
    "Poblacion2 = np.reshape(data[\"Poblacion\"]**2,[m, 1])\n",
    "Poblacion3 = np.reshape(data[\"Poblacion\"]**3,[m, 1])\n",
    "X = np.hstack((ones, Poblacion, Poblacion2, Poblacion3))\n"
   ]
  },
  {
   "cell_type": "code",
   "execution_count": 86,
   "metadata": {},
   "outputs": [
    {
     "data": {
      "text/plain": [
       "  message: Desired error not necessarily achieved due to precision loss.\n",
       "  success: False\n",
       "   status: 2\n",
       "      fun: 7.0397284318218616e+16\n",
       "        x: [-3.093e+07  2.537e+03 -2.572e-02  1.790e-08]\n",
       "      nit: 10\n",
       "      jac: [-1.074e+09 -7.178e+13 -1.459e+19 -1.341e+24]\n",
       " hess_inv: [[ 6.844e-03  1.379e-10 -1.543e-12  1.092e-17]\n",
       "            [ 1.379e-10  2.567e-17 -5.390e-19  4.914e-24]\n",
       "            [-1.543e-12 -5.390e-19  5.971e-21 -5.434e-26]\n",
       "            [ 1.092e-17  4.915e-24 -5.434e-26  5.083e-31]]\n",
       "     nfev: 342\n",
       "     njev: 66"
      ]
     },
     "execution_count": 86,
     "metadata": {},
     "output_type": "execute_result"
    }
   ],
   "source": [
    "import scipy.optimize as opt\n",
    "beta3 = [1,1,1,1]\n",
    "opt.minimize(funcion_de_costo, beta3, args=(X,y))"
   ]
  },
  {
   "cell_type": "code",
   "execution_count": 71,
   "metadata": {},
   "outputs": [
    {
     "data": {
      "image/png": "[encoded data removed]",
      "text/plain": [
       "<Figure size 640x480 with 1 Axes>"
      ]
     },
     "metadata": {},
     "output_type": "display_data"
    }
   ],
   "source": [
    "import matplotlib.pyplot as plt\n",
    "x = np.linspace(1,65)\n",
    "y =  1.935e+03 + 6.452e-04*x\n",
    "y2 = 2.360e+03 + 4.939e-04*x -5.078e-08*x**2\n",
    "y3 = -3.093e+07 + 2.537e+03*x -2.572e-02*x**2 + 1.790e-08*x**3\n",
    "plt.plot(x,y,\"g-\", label = \"Lineal\")\n",
    "plt.plot(x, y2,\"r-\", label = \"Cuadrática\")\n",
    "plt.plot(x, y3,\"b-\", label = \"Cúbica\")\n",
    "plt.legend()\n",
    "plt.grid()"
   ]
  },
  {
   "cell_type": "markdown",
   "metadata": {},
   "source": [
    "**Error cuadrático**"
   ]
  },
  {
   "cell_type": "code",
   "execution_count": 74,
   "metadata": {},
   "outputs": [
    {
     "data": {
      "text/plain": [
       "<BarContainer object of 3 artists>"
      ]
     },
     "execution_count": 74,
     "metadata": {},
     "output_type": "execute_result"
    },
    {
     "data": {
      "image/png": "[encoded data removed]",
      "text/plain": [
       "<Figure size 640x480 with 1 Axes>"
      ]
     },
     "metadata": {},
     "output_type": "display_data"
    }
   ],
   "source": [
    "import matplotlib.pyplot as plt\n",
    "%matplotlib inline\n",
    "\n",
    "no_terminos = [1,2,3]\n",
    "error = [88.65994692045965,4026357.195247286,4.438392080338875e+27]\n",
    "plt.figure()\n",
    "plt.bar(no_terminos, error)"
   ]
  },
  {
   "cell_type": "markdown",
   "metadata": {},
   "source": [
    "**Conclusiones**  \n",
    "El error de las curvas al cuadrado y al cubo es demasiado, por lo tanto, la ecuación lineal es la mejor."
   ]
  },
  {
   "cell_type": "markdown",
   "metadata": {},
   "source": [
    "**Punto 2**"
   ]
  },
  {
   "cell_type": "code",
   "execution_count": 87,
   "metadata": {},
   "outputs": [
    {
     "data": {
      "text/html": [
       "<div>\n",
       "<style scoped>\n",
       "    .dataframe tbody tr th:only-of-type {\n",
       "        vertical-align: middle;\n",
       "    }\n",
       "\n",
       "    .dataframe tbody tr th {\n",
       "        vertical-align: top;\n",
       "    }\n",
       "\n",
       "    .dataframe thead th {\n",
       "        text-align: right;\n",
       "    }\n",
       "</style>\n",
       "<table border=\"1\" class=\"dataframe\">\n",
       "  <thead>\n",
       "    <tr style=\"text-align: right;\">\n",
       "      <th></th>\n",
       "      <th>Year</th>\n",
       "      <th>Nacimientos</th>\n",
       "    </tr>\n",
       "  </thead>\n",
       "  <tbody>\n",
       "    <tr>\n",
       "      <th>0</th>\n",
       "      <td>1950</td>\n",
       "      <td>1174947</td>\n",
       "    </tr>\n",
       "    <tr>\n",
       "      <th>1</th>\n",
       "      <td>1951</td>\n",
       "      <td>1183788</td>\n",
       "    </tr>\n",
       "    <tr>\n",
       "      <th>2</th>\n",
       "      <td>1952</td>\n",
       "      <td>1195209</td>\n",
       "    </tr>\n",
       "    <tr>\n",
       "      <th>3</th>\n",
       "      <td>1953</td>\n",
       "      <td>1261775</td>\n",
       "    </tr>\n",
       "    <tr>\n",
       "      <th>4</th>\n",
       "      <td>1954</td>\n",
       "      <td>1339837</td>\n",
       "    </tr>\n",
       "    <tr>\n",
       "      <th>...</th>\n",
       "      <td>...</td>\n",
       "      <td>...</td>\n",
       "    </tr>\n",
       "    <tr>\n",
       "      <th>61</th>\n",
       "      <td>2011</td>\n",
       "      <td>2586287</td>\n",
       "    </tr>\n",
       "    <tr>\n",
       "      <th>62</th>\n",
       "      <td>2012</td>\n",
       "      <td>2498880</td>\n",
       "    </tr>\n",
       "    <tr>\n",
       "      <th>63</th>\n",
       "      <td>2013</td>\n",
       "      <td>2478889</td>\n",
       "    </tr>\n",
       "    <tr>\n",
       "      <th>64</th>\n",
       "      <td>2014</td>\n",
       "      <td>2463420</td>\n",
       "    </tr>\n",
       "    <tr>\n",
       "      <th>65</th>\n",
       "      <td>2015</td>\n",
       "      <td>2353596</td>\n",
       "    </tr>\n",
       "  </tbody>\n",
       "</table>\n",
       "<p>66 rows × 2 columns</p>\n",
       "</div>"
      ],
      "text/plain": [
       "    Year  Nacimientos\n",
       "0   1950      1174947\n",
       "1   1951      1183788\n",
       "2   1952      1195209\n",
       "3   1953      1261775\n",
       "4   1954      1339837\n",
       "..   ...          ...\n",
       "61  2011      2586287\n",
       "62  2012      2498880\n",
       "63  2013      2478889\n",
       "64  2014      2463420\n",
       "65  2015      2353596\n",
       "\n",
       "[66 rows x 2 columns]"
      ]
     },
     "execution_count": 87,
     "metadata": {},
     "output_type": "execute_result"
    }
   ],
   "source": [
    "columna = [\"Year\",\"Nacimientos\"]\n",
    "modif_data = data[columna]\n",
    "modif_data"
   ]
  },
  {
   "cell_type": "code",
   "execution_count": 88,
   "metadata": {},
   "outputs": [
    {
     "data": {
      "text/html": [
       "<div>\n",
       "<style scoped>\n",
       "    .dataframe tbody tr th:only-of-type {\n",
       "        vertical-align: middle;\n",
       "    }\n",
       "\n",
       "    .dataframe tbody tr th {\n",
       "        vertical-align: top;\n",
       "    }\n",
       "\n",
       "    .dataframe thead th {\n",
       "        text-align: right;\n",
       "    }\n",
       "</style>\n",
       "<table border=\"1\" class=\"dataframe\">\n",
       "  <thead>\n",
       "    <tr style=\"text-align: right;\">\n",
       "      <th></th>\n",
       "      <th>Year</th>\n",
       "      <th>Nacimientos</th>\n",
       "    </tr>\n",
       "  </thead>\n",
       "  <tbody>\n",
       "    <tr>\n",
       "      <th>0</th>\n",
       "      <td>1</td>\n",
       "      <td>1174947</td>\n",
       "    </tr>\n",
       "    <tr>\n",
       "      <th>1</th>\n",
       "      <td>2</td>\n",
       "      <td>1183788</td>\n",
       "    </tr>\n",
       "    <tr>\n",
       "      <th>2</th>\n",
       "      <td>3</td>\n",
       "      <td>1195209</td>\n",
       "    </tr>\n",
       "    <tr>\n",
       "      <th>3</th>\n",
       "      <td>4</td>\n",
       "      <td>1261775</td>\n",
       "    </tr>\n",
       "    <tr>\n",
       "      <th>4</th>\n",
       "      <td>5</td>\n",
       "      <td>1339837</td>\n",
       "    </tr>\n",
       "    <tr>\n",
       "      <th>...</th>\n",
       "      <td>...</td>\n",
       "      <td>...</td>\n",
       "    </tr>\n",
       "    <tr>\n",
       "      <th>61</th>\n",
       "      <td>62</td>\n",
       "      <td>2586287</td>\n",
       "    </tr>\n",
       "    <tr>\n",
       "      <th>62</th>\n",
       "      <td>63</td>\n",
       "      <td>2498880</td>\n",
       "    </tr>\n",
       "    <tr>\n",
       "      <th>63</th>\n",
       "      <td>64</td>\n",
       "      <td>2478889</td>\n",
       "    </tr>\n",
       "    <tr>\n",
       "      <th>64</th>\n",
       "      <td>65</td>\n",
       "      <td>2463420</td>\n",
       "    </tr>\n",
       "    <tr>\n",
       "      <th>65</th>\n",
       "      <td>66</td>\n",
       "      <td>2353596</td>\n",
       "    </tr>\n",
       "  </tbody>\n",
       "</table>\n",
       "<p>66 rows × 2 columns</p>\n",
       "</div>"
      ],
      "text/plain": [
       "    Year  Nacimientos\n",
       "0      1      1174947\n",
       "1      2      1183788\n",
       "2      3      1195209\n",
       "3      4      1261775\n",
       "4      5      1339837\n",
       "..   ...          ...\n",
       "61    62      2586287\n",
       "62    63      2498880\n",
       "63    64      2478889\n",
       "64    65      2463420\n",
       "65    66      2353596\n",
       "\n",
       "[66 rows x 2 columns]"
      ]
     },
     "execution_count": 88,
     "metadata": {},
     "output_type": "execute_result"
    }
   ],
   "source": [
    "def scaler(variable) : \n",
    "    variable = variable - min(variable) +1\n",
    "    return variable\n",
    "\n",
    "modif_data.loc[:, \"Year\"] = scaler(modif_data[\"Year\"])\n",
    "modif_data"
   ]
  },
  {
   "cell_type": "code",
   "execution_count": 89,
   "metadata": {},
   "outputs": [],
   "source": [
    "def funcion_de_costo(beta, X, y) :\n",
    "    r, c = X.shape\n",
    "    beta = np.reshape(beta, [c, 1])\n",
    "    y_pred = X @ beta\n",
    "    error = y_pred - y\n",
    "    return (error.T @ error)[0][0]\n",
    "\n",
    "import numpy as np\n",
    "\n",
    "m = len(data[\"Year\"])\n",
    "ones = np.ones([m, 1])\n",
    "nacimientos = np.reshape(data[\"Nacimientos\"], [m, 1])\n",
    "X = np.hstack((ones, nacimientos))\n",
    "y= np.reshape(data[\"Year\"], [m, 1])"
   ]
  },
  {
   "cell_type": "code",
   "execution_count": 90,
   "metadata": {},
   "outputs": [
    {
     "data": {
      "text/plain": [
       "  message: Desired error not necessarily achieved due to precision loss.\n",
       "  success: False\n",
       "   status: 2\n",
       "      fun: 6960.122694356323\n",
       "        x: [ 1.909e+03  3.212e-05]\n",
       "      nit: 6\n",
       "      jac: [ 0.000e+00  2.185e-02]\n",
       " hess_inv: [[ 1.666e-01 -6.982e-08]\n",
       "            [-6.982e-08  3.066e-14]]\n",
       "     nfev: 165\n",
       "     njev: 51"
      ]
     },
     "execution_count": 90,
     "metadata": {},
     "output_type": "execute_result"
    }
   ],
   "source": [
    "import scipy.optimize as opt\n",
    "beta = [1,1]\n",
    "opt.minimize(funcion_de_costo, beta, args=(X,y))"
   ]
  },
  {
   "cell_type": "code",
   "execution_count": 91,
   "metadata": {},
   "outputs": [
    {
     "data": {
      "text/plain": [
       "  message: Desired error not necessarily achieved due to precision loss.\n",
       "  success: False\n",
       "   status: 2\n",
       "      fun: 12773528136071.027\n",
       "        x: [ 4.858e+06 -4.660e+00  1.007e-06]\n",
       "      nit: 20\n",
       "      jac: [-3.788e+07 -1.035e+14 -2.378e+20]\n",
       " hess_inv: [[ 1.403e+00 -1.293e-06  2.990e-13]\n",
       "            [-1.293e-06  1.238e-12 -2.952e-19]\n",
       "            [ 2.990e-13 -2.952e-19  7.217e-26]]\n",
       "     nfev: 332\n",
       "     njev: 80"
      ]
     },
     "execution_count": 91,
     "metadata": {},
     "output_type": "execute_result"
    }
   ],
   "source": [
    "m = len(data[\"Year\"])\n",
    "ones = np.ones([m, 1])\n",
    "nacimientos = np.reshape(data[\"Nacimientos\"], [m, 1])\n",
    "nacimientos2 = np.reshape(data[\"Nacimientos\"]**2, [m,1])\n",
    "X = np.hstack((ones, nacimientos, nacimientos2))\n",
    "beta2 = [1,1,1]\n",
    "opt.minimize(funcion_de_costo, beta2, args=(X,y))"
   ]
  },
  {
   "cell_type": "code",
   "execution_count": 92,
   "metadata": {},
   "outputs": [
    {
     "data": {
      "text/plain": [
       "  message: Desired error not necessarily achieved due to precision loss.\n",
       "  success: False\n",
       "   status: 2\n",
       "      fun: 1.106923728771801e+35\n",
       "        x: [ 1.000e+00  1.000e+00 -2.740e+01 -9.998e-03]\n",
       "      nit: 2\n",
       "      jac: [ 0.000e+00  0.000e+00 -1.216e+30 -2.214e+37]\n",
       " hess_inv: [[ 1.000e+00  0.000e+00  0.000e+00  0.000e+00]\n",
       "            [ 0.000e+00  1.000e+00  0.000e+00  0.000e+00]\n",
       "            [ 0.000e+00  0.000e+00 -8.095e-25 -3.390e-28]\n",
       "            [ 0.000e+00  0.000e+00 -2.967e-28 -1.242e-31]]\n",
       "     nfev: 32\n",
       "     njev: 4"
      ]
     },
     "execution_count": 92,
     "metadata": {},
     "output_type": "execute_result"
    }
   ],
   "source": [
    "m = len(data[\"Year\"])\n",
    "ones = np.ones([m, 1])\n",
    "nacimientos = np.reshape(data[\"Nacimientos\"], [m, 1])\n",
    "nacimientos2 = np.reshape(data[\"Nacimientos\"]**2, [m,1])\n",
    "nacimientos3 = np.reshape(data[\"Nacimientos\"]**3,[m,1])\n",
    "X = np.hstack((ones, nacimientos, nacimientos2, nacimientos3))\n",
    "beta3 = [1,1,1,1]\n",
    "opt.minimize(funcion_de_costo, beta3, args=(X,y))"
   ]
  },
  {
   "cell_type": "code",
   "execution_count": 94,
   "metadata": {},
   "outputs": [
    {
     "data": {
      "image/png": "[encoded data removed]",
      "text/plain": [
       "<Figure size 640x480 with 1 Axes>"
      ]
     },
     "metadata": {},
     "output_type": "display_data"
    }
   ],
   "source": [
    "import matplotlib.pyplot as plt\n",
    "x = np.linspace(1,65)\n",
    "y =  1.909e+03 +3.212e-05*x\n",
    "y2 = 4.858e+06 -4.660e+00*x + 1.007e-06*x**2\n",
    "y3 = 1.000e+00 + 1.000e+00*x  -2.740e+01*x**2 - 9.998e-03*x**3\n",
    "plt.plot(x,y,\"g-\", label = \"Lineal\")\n",
    "plt.plot(x, y2,\"r-\", label = \"Cuadrática\")\n",
    "plt.plot(x, y3,\"b-\", label = \"Cúbica\")\n",
    "plt.legend()\n",
    "plt.grid()"
   ]
  },
  {
   "cell_type": "code",
   "execution_count": 95,
   "metadata": {},
   "outputs": [
    {
     "data": {
      "text/plain": [
       "<BarContainer object of 3 artists>"
      ]
     },
     "execution_count": 95,
     "metadata": {},
     "output_type": "execute_result"
    },
    {
     "data": {
      "image/png": "[encoded data removed]",
      "text/plain": [
       "<Figure size 640x480 with 1 Axes>"
      ]
     },
     "metadata": {},
     "output_type": "display_data"
    }
   ],
   "source": [
    "import matplotlib.pyplot as plt\n",
    "%matplotlib inline\n",
    "\n",
    "no_terminos = [1,2,3]\n",
    "error = [6960.122694356323,12773528136071.027,1.106923728771801e+35]\n",
    "plt.figure()\n",
    "plt.bar(no_terminos, error)"
   ]
  },
  {
   "cell_type": "markdown",
   "metadata": {},
   "source": [
    "**Conclusión**  \n",
    "De igual manera la lineal es la que tiene menor error."
   ]
  },
  {
   "cell_type": "code",
   "execution_count": null,
   "metadata": {},
   "outputs": [],
   "source": []
  }
 ],
 "metadata": {
  "kernelspec": {
   "display_name": "Python 3 (ipykernel)",
   "language": "python",
   "name": "python3"
  },
  "language_info": {
   "codemirror_mode": {
    "name": "ipython",
    "version": 3
   },
   "file_extension": ".py",
   "mimetype": "text/x-python",
   "name": "python",
   "nbconvert_exporter": "python",
   "pygments_lexer": "ipython3",
   "version": "3.11.5"
  }
 },
 "nbformat": 4,
 "nbformat_minor": 4
}
