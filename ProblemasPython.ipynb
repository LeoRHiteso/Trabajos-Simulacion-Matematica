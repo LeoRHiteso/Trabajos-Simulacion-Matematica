{
  "metadata": {
    "kernelspec": {
      "name": "python",
      "display_name": "Python (Pyodide)",
      "language": "python"
    },
    "language_info": {
      "codemirror_mode": {
        "name": "python",
        "version": 3
      },
      "file_extension": ".py",
      "mimetype": "text/x-python",
      "name": "python",
      "nbconvert_exporter": "python",
      "pygments_lexer": "ipython3",
      "version": "3.8"
    }
  },
  "nbformat_minor": 5,
  "nbformat": 4,
  "cells": [
    {
      "id": "2b4ec454-d955-4ae2-ae14-af650b8e1592",
      "cell_type": "markdown",
      "source": "## AO1 - Python ##",
      "metadata": {}
    },
    {
      "id": "397b5c13-d201-4fb2-9488-8bc64d86a4df",
      "cell_type": "markdown",
      "source": "Leonardo Rodríguez Hernández  \n22/01/2024",
      "metadata": {}
    },
    {
      "id": "53ad08da-6ae7-45c9-87ee-405c681bd1e9",
      "cell_type": "markdown",
      "source": "**Existe una función que recibe un número entero y te dice si es un número primo.**",
      "metadata": {}
    },
    {
      "id": "b551bc28-a9b1-4236-a48b-5b654468d6f2",
      "cell_type": "code",
      "source": "def prim(x):\n    i=2\n    while i<x:\n        if x% i == 0:\n            return \"No es primo\"\n        else:\n            i=i+1\n    return\"Si es primo\"",
      "metadata": {
        "trusted": true
      },
      "outputs": [],
      "execution_count": 13
    },
    {
      "id": "b33f5393-e8bd-48f2-b5e1-d4d9d0dc3f06",
      "cell_type": "markdown",
      "source": "**Existe una función que recibe un número y te regresa el factorial de ese número.**",
      "metadata": {}
    },
    {
      "id": "a92d6c8e-704c-4c18-aceb-11ef22322b44",
      "cell_type": "code",
      "source": "def factorial(x):\n    i=1\n    fact=x\n    while i<x:\n        fact=fact*(i)\n        i=i+1\n    return(fact)",
      "metadata": {
        "trusted": true
      },
      "outputs": [],
      "execution_count": 26
    },
    {
      "id": "b128f0cc-f287-4fdc-9366-62f9d1391a61",
      "cell_type": "markdown",
      "source": "**Contiene una celda donde revisa los números del 1 al 1000 e imprime aquellos que son primos.**",
      "metadata": {}
    },
    {
      "id": "ce7fccd4-c094-4dd5-9c8f-240054694533",
      "cell_type": "code",
      "source": "for i in range(1, 1001) :\n    if prim(i) == \"Si es primo\" :\n        print(i)",
      "metadata": {
        "trusted": true
      },
      "outputs": [
        {
          "name": "stdout",
          "text": "1\n2\n3\n5\n7\n11\n13\n17\n19\n23\n29\n31\n37\n41\n43\n47\n53\n59\n61\n67\n71\n73\n79\n83\n89\n97\n101\n103\n107\n109\n113\n127\n131\n137\n139\n149\n151\n157\n163\n167\n173\n179\n181\n191\n193\n197\n199\n211\n223\n227\n229\n233\n239\n241\n251\n257\n263\n269\n271\n277\n281\n283\n293\n307\n311\n313\n317\n331\n337\n347\n349\n353\n359\n367\n373\n379\n383\n389\n397\n401\n409\n419\n421\n431\n433\n439\n443\n449\n457\n461\n463\n467\n479\n487\n491\n499\n503\n509\n521\n523\n541\n547\n557\n563\n569\n571\n577\n587\n593\n599\n601\n607\n613\n617\n619\n631\n641\n643\n647\n653\n659\n661\n673\n677\n683\n691\n701\n709\n719\n727\n733\n739\n743\n751\n757\n761\n769\n773\n787\n797\n809\n811\n821\n823\n827\n829\n839\n853\n857\n859\n863\n877\n881\n883\n887\n907\n911\n919\n929\n937\n941\n947\n953\n967\n971\n977\n983\n991\n997\n",
          "output_type": "stream"
        }
      ],
      "execution_count": 19
    },
    {
      "id": "1ef509ba-bbd6-4e94-a30f-aad3ebb1b9ae",
      "cell_type": "markdown",
      "source": "Contiene una celda donde itera sobre los números [2, 5, 8, 11] e imprime su factorial.**\n",
      "metadata": {}
    },
    {
      "id": "8be70315-9d38-4447-a758-737d6b74b66f",
      "cell_type": "code",
      "source": "def factorial(x):\n    i=1\n    fact=x\n    while i<x:\n        fact=fact*(i)\n        i=i+1\n    return(fact)\nlista= [2,5,8,11]\nfor i in lista:\n    print(factorial(i))",
      "metadata": {
        "trusted": true
      },
      "outputs": [
        {
          "name": "stdout",
          "text": "2\n120\n40320\n39916800\n",
          "output_type": "stream"
        }
      ],
      "execution_count": 27
    },
    {
      "id": "2795d5c6-3a36-4864-9ce2-e9c654d8b05e",
      "cell_type": "code",
      "source": "",
      "metadata": {
        "trusted": true
      },
      "outputs": [],
      "execution_count": null
    }
  ]
}